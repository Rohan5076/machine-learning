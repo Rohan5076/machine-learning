{
  "nbformat": 4,
  "nbformat_minor": 0,
  "metadata": {
    "colab": {
      "name": "ML_13_Decision_Tree_Implementation(Regressor and Classifier).ipynb",
      "provenance": [],
      "include_colab_link": true
    },
    "kernelspec": {
      "name": "python3",
      "display_name": "Python 3"
    },
    "language_info": {
      "name": "python"
    }
  },
  "cells": [
    {
      "cell_type": "markdown",
      "metadata": {
        "id": "view-in-github",
        "colab_type": "text"
      },
      "source": [
        "<a href=\"https://colab.research.google.com/github/Rohan5076/machine-learning/blob/main/ML_13_Decision_Tree_Implementation(Regressor_and_Classifier).ipynb\" target=\"_parent\"><img src=\"https://colab.research.google.com/assets/colab-badge.svg\" alt=\"Open In Colab\"/></a>"
      ]
    },
    {
      "cell_type": "markdown",
      "source": [
        "# Decision Tree Classifier Implementation"
      ],
      "metadata": {
        "id": "25wL2AzSqbTu"
      }
    },
    {
      "cell_type": "code",
      "source": [
        "balance_data = pd.read_csv(\n",
        "'https://archive.ics.uci.edu/ml/machine-learning-'+\n",
        "'databases/balance-scale/balance-scale.data',\n",
        "\tsep= ',', header = None)"
      ],
      "metadata": {
        "id": "hmNy6hBFsBJc"
      },
      "execution_count": null,
      "outputs": []
    },
    {
      "cell_type": "code",
      "source": [
        "balance_data.head()"
      ],
      "metadata": {
        "colab": {
          "base_uri": "https://localhost:8080/",
          "height": 206
        },
        "id": "90n-cXB0sDJD",
        "outputId": "89476b40-f1f7-4aa2-abd3-e682b48b3d31"
      },
      "execution_count": null,
      "outputs": [
        {
          "output_type": "execute_result",
          "data": {
            "text/plain": [
              "   0  1  2  3  4\n",
              "0  B  1  1  1  1\n",
              "1  R  1  1  1  2\n",
              "2  R  1  1  1  3\n",
              "3  R  1  1  1  4\n",
              "4  R  1  1  1  5"
            ],
            "text/html": [
              "\n",
              "  <div id=\"df-816ad43b-1aeb-475c-92e7-f105ef8b8131\">\n",
              "    <div class=\"colab-df-container\">\n",
              "      <div>\n",
              "<style scoped>\n",
              "    .dataframe tbody tr th:only-of-type {\n",
              "        vertical-align: middle;\n",
              "    }\n",
              "\n",
              "    .dataframe tbody tr th {\n",
              "        vertical-align: top;\n",
              "    }\n",
              "\n",
              "    .dataframe thead th {\n",
              "        text-align: right;\n",
              "    }\n",
              "</style>\n",
              "<table border=\"1\" class=\"dataframe\">\n",
              "  <thead>\n",
              "    <tr style=\"text-align: right;\">\n",
              "      <th></th>\n",
              "      <th>0</th>\n",
              "      <th>1</th>\n",
              "      <th>2</th>\n",
              "      <th>3</th>\n",
              "      <th>4</th>\n",
              "    </tr>\n",
              "  </thead>\n",
              "  <tbody>\n",
              "    <tr>\n",
              "      <th>0</th>\n",
              "      <td>B</td>\n",
              "      <td>1</td>\n",
              "      <td>1</td>\n",
              "      <td>1</td>\n",
              "      <td>1</td>\n",
              "    </tr>\n",
              "    <tr>\n",
              "      <th>1</th>\n",
              "      <td>R</td>\n",
              "      <td>1</td>\n",
              "      <td>1</td>\n",
              "      <td>1</td>\n",
              "      <td>2</td>\n",
              "    </tr>\n",
              "    <tr>\n",
              "      <th>2</th>\n",
              "      <td>R</td>\n",
              "      <td>1</td>\n",
              "      <td>1</td>\n",
              "      <td>1</td>\n",
              "      <td>3</td>\n",
              "    </tr>\n",
              "    <tr>\n",
              "      <th>3</th>\n",
              "      <td>R</td>\n",
              "      <td>1</td>\n",
              "      <td>1</td>\n",
              "      <td>1</td>\n",
              "      <td>4</td>\n",
              "    </tr>\n",
              "    <tr>\n",
              "      <th>4</th>\n",
              "      <td>R</td>\n",
              "      <td>1</td>\n",
              "      <td>1</td>\n",
              "      <td>1</td>\n",
              "      <td>5</td>\n",
              "    </tr>\n",
              "  </tbody>\n",
              "</table>\n",
              "</div>\n",
              "      <button class=\"colab-df-convert\" onclick=\"convertToInteractive('df-816ad43b-1aeb-475c-92e7-f105ef8b8131')\"\n",
              "              title=\"Convert this dataframe to an interactive table.\"\n",
              "              style=\"display:none;\">\n",
              "        \n",
              "  <svg xmlns=\"http://www.w3.org/2000/svg\" height=\"24px\"viewBox=\"0 0 24 24\"\n",
              "       width=\"24px\">\n",
              "    <path d=\"M0 0h24v24H0V0z\" fill=\"none\"/>\n",
              "    <path d=\"M18.56 5.44l.94 2.06.94-2.06 2.06-.94-2.06-.94-.94-2.06-.94 2.06-2.06.94zm-11 1L8.5 8.5l.94-2.06 2.06-.94-2.06-.94L8.5 2.5l-.94 2.06-2.06.94zm10 10l.94 2.06.94-2.06 2.06-.94-2.06-.94-.94-2.06-.94 2.06-2.06.94z\"/><path d=\"M17.41 7.96l-1.37-1.37c-.4-.4-.92-.59-1.43-.59-.52 0-1.04.2-1.43.59L10.3 9.45l-7.72 7.72c-.78.78-.78 2.05 0 2.83L4 21.41c.39.39.9.59 1.41.59.51 0 1.02-.2 1.41-.59l7.78-7.78 2.81-2.81c.8-.78.8-2.07 0-2.86zM5.41 20L4 18.59l7.72-7.72 1.47 1.35L5.41 20z\"/>\n",
              "  </svg>\n",
              "      </button>\n",
              "      \n",
              "  <style>\n",
              "    .colab-df-container {\n",
              "      display:flex;\n",
              "      flex-wrap:wrap;\n",
              "      gap: 12px;\n",
              "    }\n",
              "\n",
              "    .colab-df-convert {\n",
              "      background-color: #E8F0FE;\n",
              "      border: none;\n",
              "      border-radius: 50%;\n",
              "      cursor: pointer;\n",
              "      display: none;\n",
              "      fill: #1967D2;\n",
              "      height: 32px;\n",
              "      padding: 0 0 0 0;\n",
              "      width: 32px;\n",
              "    }\n",
              "\n",
              "    .colab-df-convert:hover {\n",
              "      background-color: #E2EBFA;\n",
              "      box-shadow: 0px 1px 2px rgba(60, 64, 67, 0.3), 0px 1px 3px 1px rgba(60, 64, 67, 0.15);\n",
              "      fill: #174EA6;\n",
              "    }\n",
              "\n",
              "    [theme=dark] .colab-df-convert {\n",
              "      background-color: #3B4455;\n",
              "      fill: #D2E3FC;\n",
              "    }\n",
              "\n",
              "    [theme=dark] .colab-df-convert:hover {\n",
              "      background-color: #434B5C;\n",
              "      box-shadow: 0px 1px 3px 1px rgba(0, 0, 0, 0.15);\n",
              "      filter: drop-shadow(0px 1px 2px rgba(0, 0, 0, 0.3));\n",
              "      fill: #FFFFFF;\n",
              "    }\n",
              "  </style>\n",
              "\n",
              "      <script>\n",
              "        const buttonEl =\n",
              "          document.querySelector('#df-816ad43b-1aeb-475c-92e7-f105ef8b8131 button.colab-df-convert');\n",
              "        buttonEl.style.display =\n",
              "          google.colab.kernel.accessAllowed ? 'block' : 'none';\n",
              "\n",
              "        async function convertToInteractive(key) {\n",
              "          const element = document.querySelector('#df-816ad43b-1aeb-475c-92e7-f105ef8b8131');\n",
              "          const dataTable =\n",
              "            await google.colab.kernel.invokeFunction('convertToInteractive',\n",
              "                                                     [key], {});\n",
              "          if (!dataTable) return;\n",
              "\n",
              "          const docLinkHtml = 'Like what you see? Visit the ' +\n",
              "            '<a target=\"_blank\" href=https://colab.research.google.com/notebooks/data_table.ipynb>data table notebook</a>'\n",
              "            + ' to learn more about interactive tables.';\n",
              "          element.innerHTML = '';\n",
              "          dataTable['output_type'] = 'display_data';\n",
              "          await google.colab.output.renderOutput(dataTable, element);\n",
              "          const docLink = document.createElement('div');\n",
              "          docLink.innerHTML = docLinkHtml;\n",
              "          element.appendChild(docLink);\n",
              "        }\n",
              "      </script>\n",
              "    </div>\n",
              "  </div>\n",
              "  "
            ]
          },
          "metadata": {},
          "execution_count": 3
        }
      ]
    },
    {
      "cell_type": "code",
      "source": [
        "# Run this program on your local python\n",
        "# interpreter, provided you have installed\n",
        "# the required libraries.\n",
        "\n",
        "# Importing the required packages\n",
        "import numpy as np\n",
        "import pandas as pd\n",
        "from sklearn.metrics import confusion_matrix\n",
        "from sklearn.model_selection import train_test_split\n",
        "from sklearn.tree import DecisionTreeClassifier\n",
        "from sklearn.metrics import accuracy_score\n",
        "from sklearn.metrics import classification_report\n",
        "\n",
        "# Function importing Dataset\n",
        "def importdata():\n",
        "\tbalance_data = pd.read_csv(\n",
        "'https://archive.ics.uci.edu/ml/machine-learning-'+\n",
        "'databases/balance-scale/balance-scale.data',\n",
        "\tsep= ',', header = None)\n",
        "\t\n",
        "\t# Printing the dataswet shape\n",
        "\tprint (\"Dataset Length: \", len(balance_data))\n",
        "\tprint (\"Dataset Shape: \", balance_data.shape)\n",
        "\t\n",
        "\t# Printing the dataset obseravtions\n",
        "\tprint (\"Dataset: \",balance_data.head())\n",
        "\treturn balance_data\n",
        "\n",
        "# Function to split the dataset\n",
        "def splitdataset(balance_data):\n",
        "\n",
        "\t# Separating the target variable\n",
        "\tX = balance_data.values[:, 1:5]\n",
        "\tY = balance_data.values[:, 0]\n",
        "\n",
        "\t# Splitting the dataset into train and test\n",
        "\tX_train, X_test, y_train, y_test = train_test_split(\n",
        "\tX, Y, test_size = 0.3, random_state = 100)\n",
        "\t\n",
        "\treturn X, Y, X_train, X_test, y_train, y_test\n",
        "\t\n",
        "# Function to perform training with giniIndex.\n",
        "def train_using_gini(X_train, X_test, y_train):\n",
        "\n",
        "\t# Creating the classifier object\n",
        "\tclf_gini = DecisionTreeClassifier(criterion = \"gini\",\n",
        "\t\t\trandom_state = 100,max_depth=3, min_samples_leaf=5)\n",
        "\n",
        "\t# Performing training\n",
        "\tclf_gini.fit(X_train, y_train)\n",
        "\treturn clf_gini\n",
        "\t\n",
        "# Function to perform training with entropy.\n",
        "def tarin_using_entropy(X_train, X_test, y_train):\n",
        "\n",
        "\t# Decision tree with entropy\n",
        "\tclf_entropy = DecisionTreeClassifier(\n",
        "\t\t\tcriterion = \"entropy\", random_state = 100,\n",
        "\t\t\tmax_depth = 3, min_samples_leaf = 5)\n",
        "\n",
        "\t# Performing training\n",
        "\tclf_entropy.fit(X_train, y_train)\n",
        "\treturn clf_entropy\n",
        "\n",
        "\n",
        "# Function to make predictions\n",
        "def prediction(X_test, clf_object):\n",
        "\n",
        "\t# Predicton on test with giniIndex\n",
        "\ty_pred = clf_object.predict(X_test)\n",
        "\tprint(\"Predicted values:\")\n",
        "\tprint(y_pred)\n",
        "\treturn y_pred\n",
        "\t\n",
        "# Function to calculate accuracy\n",
        "def cal_accuracy(y_test, y_pred):\n",
        "\t\n",
        "\tprint(\"Confusion Matrix: \",\n",
        "\t\tconfusion_matrix(y_test, y_pred))\n",
        "\t\n",
        "\tprint (\"Accuracy : \",\n",
        "\taccuracy_score(y_test,y_pred)*100)\n",
        "\t\n",
        "\tprint(\"Report : \",\n",
        "\tclassification_report(y_test, y_pred))\n",
        "\n",
        "# Driver code\n",
        "def main():\n",
        "\t\n",
        "\t# Building Phase\n",
        "\tdata = importdata()\n",
        "\tX, Y, X_train, X_test, y_train, y_test = splitdataset(data)\n",
        "\tclf_gini = train_using_gini(X_train, X_test, y_train)\n",
        "\tclf_entropy = tarin_using_entropy(X_train, X_test, y_train)\n",
        "\t\n",
        "\t# Operational Phase\n",
        "\tprint(\"Results Using Gini Index:\")\n",
        "\t\n",
        "\t# Prediction using gini\n",
        "\ty_pred_gini = prediction(X_test, clf_gini)\n",
        "\tcal_accuracy(y_test, y_pred_gini)\n",
        "\t\n",
        "\tprint(\"Results Using Entropy:\")\n",
        "\t# Prediction using entropy\n",
        "\ty_pred_entropy = prediction(X_test, clf_entropy)\n",
        "\tcal_accuracy(y_test, y_pred_entropy)\n",
        "\t\n",
        "\t\n",
        "# Calling main function\n",
        "if __name__==\"__main__\":\n",
        "\tmain()\n"
      ],
      "metadata": {
        "colab": {
          "base_uri": "https://localhost:8080/"
        },
        "id": "eoePFZOAqioZ",
        "outputId": "56a822cf-eb48-4667-a65e-2ce4397887f9"
      },
      "execution_count": null,
      "outputs": [
        {
          "output_type": "stream",
          "name": "stdout",
          "text": [
            "Dataset Length:  625\n",
            "Dataset Shape:  (625, 5)\n",
            "Dataset:     0  1  2  3  4\n",
            "0  B  1  1  1  1\n",
            "1  R  1  1  1  2\n",
            "2  R  1  1  1  3\n",
            "3  R  1  1  1  4\n",
            "4  R  1  1  1  5\n",
            "Results Using Gini Index:\n",
            "Predicted values:\n",
            "['R' 'L' 'R' 'R' 'R' 'L' 'R' 'L' 'L' 'L' 'R' 'L' 'L' 'L' 'R' 'L' 'R' 'L'\n",
            " 'L' 'R' 'L' 'R' 'L' 'L' 'R' 'L' 'L' 'L' 'R' 'L' 'L' 'L' 'R' 'L' 'L' 'L'\n",
            " 'L' 'R' 'L' 'L' 'R' 'L' 'R' 'L' 'R' 'R' 'L' 'L' 'R' 'L' 'R' 'R' 'L' 'R'\n",
            " 'R' 'L' 'R' 'R' 'L' 'L' 'R' 'R' 'L' 'L' 'L' 'L' 'L' 'R' 'R' 'L' 'L' 'R'\n",
            " 'R' 'L' 'R' 'L' 'R' 'R' 'R' 'L' 'R' 'L' 'L' 'L' 'L' 'R' 'R' 'L' 'R' 'L'\n",
            " 'R' 'R' 'L' 'L' 'L' 'R' 'R' 'L' 'L' 'L' 'R' 'L' 'R' 'R' 'R' 'R' 'R' 'R'\n",
            " 'R' 'L' 'R' 'L' 'R' 'R' 'L' 'R' 'R' 'R' 'R' 'R' 'L' 'R' 'L' 'L' 'L' 'L'\n",
            " 'L' 'L' 'L' 'R' 'R' 'R' 'R' 'L' 'R' 'R' 'R' 'L' 'L' 'R' 'L' 'R' 'L' 'R'\n",
            " 'L' 'L' 'R' 'L' 'L' 'R' 'L' 'R' 'L' 'R' 'R' 'R' 'L' 'R' 'R' 'R' 'R' 'R'\n",
            " 'L' 'L' 'R' 'R' 'R' 'R' 'L' 'R' 'R' 'R' 'L' 'R' 'L' 'L' 'L' 'L' 'R' 'R'\n",
            " 'L' 'R' 'R' 'L' 'L' 'R' 'R' 'R']\n",
            "Confusion Matrix:  [[ 0  6  7]\n",
            " [ 0 67 18]\n",
            " [ 0 19 71]]\n",
            "Accuracy :  73.40425531914893\n",
            "Report :                precision    recall  f1-score   support\n",
            "\n",
            "           B       0.00      0.00      0.00        13\n",
            "           L       0.73      0.79      0.76        85\n",
            "           R       0.74      0.79      0.76        90\n",
            "\n",
            "    accuracy                           0.73       188\n",
            "   macro avg       0.49      0.53      0.51       188\n",
            "weighted avg       0.68      0.73      0.71       188\n",
            "\n",
            "Results Using Entropy:\n",
            "Predicted values:\n",
            "['R' 'L' 'R' 'L' 'R' 'L' 'R' 'L' 'R' 'R' 'R' 'R' 'L' 'L' 'R' 'L' 'R' 'L'\n",
            " 'L' 'R' 'L' 'R' 'L' 'L' 'R' 'L' 'R' 'L' 'R' 'L' 'R' 'L' 'R' 'L' 'L' 'L'\n",
            " 'L' 'L' 'R' 'L' 'R' 'L' 'R' 'L' 'R' 'R' 'L' 'L' 'R' 'L' 'L' 'R' 'L' 'L'\n",
            " 'R' 'L' 'R' 'R' 'L' 'R' 'R' 'R' 'L' 'L' 'R' 'L' 'L' 'R' 'L' 'L' 'L' 'R'\n",
            " 'R' 'L' 'R' 'L' 'R' 'R' 'R' 'L' 'R' 'L' 'L' 'L' 'L' 'R' 'R' 'L' 'R' 'L'\n",
            " 'R' 'R' 'L' 'L' 'L' 'R' 'R' 'L' 'L' 'L' 'R' 'L' 'L' 'R' 'R' 'R' 'R' 'R'\n",
            " 'R' 'L' 'R' 'L' 'R' 'R' 'L' 'R' 'R' 'L' 'R' 'R' 'L' 'R' 'R' 'R' 'L' 'L'\n",
            " 'L' 'L' 'L' 'R' 'R' 'R' 'R' 'L' 'R' 'R' 'R' 'L' 'L' 'R' 'L' 'R' 'L' 'R'\n",
            " 'L' 'R' 'R' 'L' 'L' 'R' 'L' 'R' 'R' 'R' 'R' 'R' 'L' 'R' 'R' 'R' 'R' 'R'\n",
            " 'R' 'L' 'R' 'L' 'R' 'R' 'L' 'R' 'L' 'R' 'L' 'R' 'L' 'L' 'L' 'L' 'L' 'R'\n",
            " 'R' 'R' 'L' 'L' 'L' 'R' 'R' 'R']\n",
            "Confusion Matrix:  [[ 0  6  7]\n",
            " [ 0 63 22]\n",
            " [ 0 20 70]]\n",
            "Accuracy :  70.74468085106383\n",
            "Report :                precision    recall  f1-score   support\n",
            "\n",
            "           B       0.00      0.00      0.00        13\n",
            "           L       0.71      0.74      0.72        85\n",
            "           R       0.71      0.78      0.74        90\n",
            "\n",
            "    accuracy                           0.71       188\n",
            "   macro avg       0.47      0.51      0.49       188\n",
            "weighted avg       0.66      0.71      0.68       188\n",
            "\n"
          ]
        },
        {
          "output_type": "stream",
          "name": "stderr",
          "text": [
            "/usr/local/lib/python3.7/dist-packages/sklearn/metrics/_classification.py:1318: UndefinedMetricWarning: Precision and F-score are ill-defined and being set to 0.0 in labels with no predicted samples. Use `zero_division` parameter to control this behavior.\n",
            "  _warn_prf(average, modifier, msg_start, len(result))\n",
            "/usr/local/lib/python3.7/dist-packages/sklearn/metrics/_classification.py:1318: UndefinedMetricWarning: Precision and F-score are ill-defined and being set to 0.0 in labels with no predicted samples. Use `zero_division` parameter to control this behavior.\n",
            "  _warn_prf(average, modifier, msg_start, len(result))\n",
            "/usr/local/lib/python3.7/dist-packages/sklearn/metrics/_classification.py:1318: UndefinedMetricWarning: Precision and F-score are ill-defined and being set to 0.0 in labels with no predicted samples. Use `zero_division` parameter to control this behavior.\n",
            "  _warn_prf(average, modifier, msg_start, len(result))\n",
            "/usr/local/lib/python3.7/dist-packages/sklearn/metrics/_classification.py:1318: UndefinedMetricWarning: Precision and F-score are ill-defined and being set to 0.0 in labels with no predicted samples. Use `zero_division` parameter to control this behavior.\n",
            "  _warn_prf(average, modifier, msg_start, len(result))\n",
            "/usr/local/lib/python3.7/dist-packages/sklearn/metrics/_classification.py:1318: UndefinedMetricWarning: Precision and F-score are ill-defined and being set to 0.0 in labels with no predicted samples. Use `zero_division` parameter to control this behavior.\n",
            "  _warn_prf(average, modifier, msg_start, len(result))\n",
            "/usr/local/lib/python3.7/dist-packages/sklearn/metrics/_classification.py:1318: UndefinedMetricWarning: Precision and F-score are ill-defined and being set to 0.0 in labels with no predicted samples. Use `zero_division` parameter to control this behavior.\n",
            "  _warn_prf(average, modifier, msg_start, len(result))\n"
          ]
        }
      ]
    },
    {
      "cell_type": "markdown",
      "source": [
        "# Another Example: Decision Tree Classifier\n",
        "\n",
        "For classification exercise we are going to use sklearns iris plant dataset. Objective is to classify iris flowers among three species (setosa, versicolor or virginica) from measurements of length and width of sepals and petals"
      ],
      "metadata": {
        "id": "VbGHyjiQuDzA"
      }
    },
    {
      "cell_type": "code",
      "source": [
        "# Implort libraries\n",
        "import pandas as pd\n",
        "import numpy as np\n",
        "from sklearn import datasets\n",
        "from sklearn import model_selection\n",
        "from sklearn import tree\n",
        "import graphviz"
      ],
      "metadata": {
        "id": "_kbUXPb3rj58"
      },
      "execution_count": null,
      "outputs": []
    },
    {
      "cell_type": "code",
      "source": [
        "#Import data\n",
        "iris = datasets.load_iris()\n",
        "print('Dataset structure= ', dir(iris))\n",
        "\n",
        "df = pd.DataFrame(iris.data, columns = iris.feature_names)\n",
        "df['target'] = iris.target\n",
        "# Each value from 'target' is used as index to get corresponding value from 'target_names' \n",
        "df['flower_species'] = df.target.apply(lambda x : iris.target_names[x])\n",
        "\n",
        "print('Unique target values=',df['target'].unique())\n",
        "\n",
        "df.sample(5)"
      ],
      "metadata": {
        "colab": {
          "base_uri": "https://localhost:8080/",
          "height": 241
        },
        "id": "lQAZ6EGhuQ6b",
        "outputId": "ef74b66a-67b9-4bc1-d0ed-ed8bf99230c1"
      },
      "execution_count": null,
      "outputs": [
        {
          "output_type": "stream",
          "name": "stdout",
          "text": [
            "Dataset structure=  ['DESCR', 'data', 'data_module', 'feature_names', 'filename', 'frame', 'target', 'target_names']\n",
            "Unique target values= [0 1 2]\n"
          ]
        },
        {
          "output_type": "execute_result",
          "data": {
            "text/plain": [
              "     sepal length (cm)  sepal width (cm)  petal length (cm)  petal width (cm)  \\\n",
              "4                  5.0               3.6                1.4               0.2   \n",
              "78                 6.0               2.9                4.5               1.5   \n",
              "56                 6.3               3.3                4.7               1.6   \n",
              "85                 6.0               3.4                4.5               1.6   \n",
              "113                5.7               2.5                5.0               2.0   \n",
              "\n",
              "     target flower_species  \n",
              "4         0         setosa  \n",
              "78        1     versicolor  \n",
              "56        1     versicolor  \n",
              "85        1     versicolor  \n",
              "113       2      virginica  "
            ],
            "text/html": [
              "\n",
              "  <div id=\"df-94b4b0f8-b05d-45d3-8216-30b57891fefc\">\n",
              "    <div class=\"colab-df-container\">\n",
              "      <div>\n",
              "<style scoped>\n",
              "    .dataframe tbody tr th:only-of-type {\n",
              "        vertical-align: middle;\n",
              "    }\n",
              "\n",
              "    .dataframe tbody tr th {\n",
              "        vertical-align: top;\n",
              "    }\n",
              "\n",
              "    .dataframe thead th {\n",
              "        text-align: right;\n",
              "    }\n",
              "</style>\n",
              "<table border=\"1\" class=\"dataframe\">\n",
              "  <thead>\n",
              "    <tr style=\"text-align: right;\">\n",
              "      <th></th>\n",
              "      <th>sepal length (cm)</th>\n",
              "      <th>sepal width (cm)</th>\n",
              "      <th>petal length (cm)</th>\n",
              "      <th>petal width (cm)</th>\n",
              "      <th>target</th>\n",
              "      <th>flower_species</th>\n",
              "    </tr>\n",
              "  </thead>\n",
              "  <tbody>\n",
              "    <tr>\n",
              "      <th>4</th>\n",
              "      <td>5.0</td>\n",
              "      <td>3.6</td>\n",
              "      <td>1.4</td>\n",
              "      <td>0.2</td>\n",
              "      <td>0</td>\n",
              "      <td>setosa</td>\n",
              "    </tr>\n",
              "    <tr>\n",
              "      <th>78</th>\n",
              "      <td>6.0</td>\n",
              "      <td>2.9</td>\n",
              "      <td>4.5</td>\n",
              "      <td>1.5</td>\n",
              "      <td>1</td>\n",
              "      <td>versicolor</td>\n",
              "    </tr>\n",
              "    <tr>\n",
              "      <th>56</th>\n",
              "      <td>6.3</td>\n",
              "      <td>3.3</td>\n",
              "      <td>4.7</td>\n",
              "      <td>1.6</td>\n",
              "      <td>1</td>\n",
              "      <td>versicolor</td>\n",
              "    </tr>\n",
              "    <tr>\n",
              "      <th>85</th>\n",
              "      <td>6.0</td>\n",
              "      <td>3.4</td>\n",
              "      <td>4.5</td>\n",
              "      <td>1.6</td>\n",
              "      <td>1</td>\n",
              "      <td>versicolor</td>\n",
              "    </tr>\n",
              "    <tr>\n",
              "      <th>113</th>\n",
              "      <td>5.7</td>\n",
              "      <td>2.5</td>\n",
              "      <td>5.0</td>\n",
              "      <td>2.0</td>\n",
              "      <td>2</td>\n",
              "      <td>virginica</td>\n",
              "    </tr>\n",
              "  </tbody>\n",
              "</table>\n",
              "</div>\n",
              "      <button class=\"colab-df-convert\" onclick=\"convertToInteractive('df-94b4b0f8-b05d-45d3-8216-30b57891fefc')\"\n",
              "              title=\"Convert this dataframe to an interactive table.\"\n",
              "              style=\"display:none;\">\n",
              "        \n",
              "  <svg xmlns=\"http://www.w3.org/2000/svg\" height=\"24px\"viewBox=\"0 0 24 24\"\n",
              "       width=\"24px\">\n",
              "    <path d=\"M0 0h24v24H0V0z\" fill=\"none\"/>\n",
              "    <path d=\"M18.56 5.44l.94 2.06.94-2.06 2.06-.94-2.06-.94-.94-2.06-.94 2.06-2.06.94zm-11 1L8.5 8.5l.94-2.06 2.06-.94-2.06-.94L8.5 2.5l-.94 2.06-2.06.94zm10 10l.94 2.06.94-2.06 2.06-.94-2.06-.94-.94-2.06-.94 2.06-2.06.94z\"/><path d=\"M17.41 7.96l-1.37-1.37c-.4-.4-.92-.59-1.43-.59-.52 0-1.04.2-1.43.59L10.3 9.45l-7.72 7.72c-.78.78-.78 2.05 0 2.83L4 21.41c.39.39.9.59 1.41.59.51 0 1.02-.2 1.41-.59l7.78-7.78 2.81-2.81c.8-.78.8-2.07 0-2.86zM5.41 20L4 18.59l7.72-7.72 1.47 1.35L5.41 20z\"/>\n",
              "  </svg>\n",
              "      </button>\n",
              "      \n",
              "  <style>\n",
              "    .colab-df-container {\n",
              "      display:flex;\n",
              "      flex-wrap:wrap;\n",
              "      gap: 12px;\n",
              "    }\n",
              "\n",
              "    .colab-df-convert {\n",
              "      background-color: #E8F0FE;\n",
              "      border: none;\n",
              "      border-radius: 50%;\n",
              "      cursor: pointer;\n",
              "      display: none;\n",
              "      fill: #1967D2;\n",
              "      height: 32px;\n",
              "      padding: 0 0 0 0;\n",
              "      width: 32px;\n",
              "    }\n",
              "\n",
              "    .colab-df-convert:hover {\n",
              "      background-color: #E2EBFA;\n",
              "      box-shadow: 0px 1px 2px rgba(60, 64, 67, 0.3), 0px 1px 3px 1px rgba(60, 64, 67, 0.15);\n",
              "      fill: #174EA6;\n",
              "    }\n",
              "\n",
              "    [theme=dark] .colab-df-convert {\n",
              "      background-color: #3B4455;\n",
              "      fill: #D2E3FC;\n",
              "    }\n",
              "\n",
              "    [theme=dark] .colab-df-convert:hover {\n",
              "      background-color: #434B5C;\n",
              "      box-shadow: 0px 1px 3px 1px rgba(0, 0, 0, 0.15);\n",
              "      filter: drop-shadow(0px 1px 2px rgba(0, 0, 0, 0.3));\n",
              "      fill: #FFFFFF;\n",
              "    }\n",
              "  </style>\n",
              "\n",
              "      <script>\n",
              "        const buttonEl =\n",
              "          document.querySelector('#df-94b4b0f8-b05d-45d3-8216-30b57891fefc button.colab-df-convert');\n",
              "        buttonEl.style.display =\n",
              "          google.colab.kernel.accessAllowed ? 'block' : 'none';\n",
              "\n",
              "        async function convertToInteractive(key) {\n",
              "          const element = document.querySelector('#df-94b4b0f8-b05d-45d3-8216-30b57891fefc');\n",
              "          const dataTable =\n",
              "            await google.colab.kernel.invokeFunction('convertToInteractive',\n",
              "                                                     [key], {});\n",
              "          if (!dataTable) return;\n",
              "\n",
              "          const docLinkHtml = 'Like what you see? Visit the ' +\n",
              "            '<a target=\"_blank\" href=https://colab.research.google.com/notebooks/data_table.ipynb>data table notebook</a>'\n",
              "            + ' to learn more about interactive tables.';\n",
              "          element.innerHTML = '';\n",
              "          dataTable['output_type'] = 'display_data';\n",
              "          await google.colab.output.renderOutput(dataTable, element);\n",
              "          const docLink = document.createElement('div');\n",
              "          docLink.innerHTML = docLinkHtml;\n",
              "          element.appendChild(docLink);\n",
              "        }\n",
              "      </script>\n",
              "    </div>\n",
              "  </div>\n",
              "  "
            ]
          },
          "metadata": {},
          "execution_count": 5
        }
      ]
    },
    {
      "cell_type": "markdown",
      "source": [
        "Note that, target value 0 = setosa, 1 = versicolor and 2 = virginica\n",
        "\n",
        "Let visualize the feature values for each type of flower"
      ],
      "metadata": {
        "id": "lwuj2NilukiG"
      }
    },
    {
      "cell_type": "code",
      "source": [
        "# label = 0 (setosa)\n",
        "df[df.target == 0].head(3)"
      ],
      "metadata": {
        "colab": {
          "base_uri": "https://localhost:8080/",
          "height": 143
        },
        "id": "VWgK8uxnucAk",
        "outputId": "c2983e1a-4897-4fb0-a31b-f794401bc519"
      },
      "execution_count": null,
      "outputs": [
        {
          "output_type": "execute_result",
          "data": {
            "text/plain": [
              "   sepal length (cm)  sepal width (cm)  petal length (cm)  petal width (cm)  \\\n",
              "0                5.1               3.5                1.4               0.2   \n",
              "1                4.9               3.0                1.4               0.2   \n",
              "2                4.7               3.2                1.3               0.2   \n",
              "\n",
              "   target flower_species  \n",
              "0       0         setosa  \n",
              "1       0         setosa  \n",
              "2       0         setosa  "
            ],
            "text/html": [
              "\n",
              "  <div id=\"df-32ea6a46-78b3-4480-a144-3e32a1a3acdc\">\n",
              "    <div class=\"colab-df-container\">\n",
              "      <div>\n",
              "<style scoped>\n",
              "    .dataframe tbody tr th:only-of-type {\n",
              "        vertical-align: middle;\n",
              "    }\n",
              "\n",
              "    .dataframe tbody tr th {\n",
              "        vertical-align: top;\n",
              "    }\n",
              "\n",
              "    .dataframe thead th {\n",
              "        text-align: right;\n",
              "    }\n",
              "</style>\n",
              "<table border=\"1\" class=\"dataframe\">\n",
              "  <thead>\n",
              "    <tr style=\"text-align: right;\">\n",
              "      <th></th>\n",
              "      <th>sepal length (cm)</th>\n",
              "      <th>sepal width (cm)</th>\n",
              "      <th>petal length (cm)</th>\n",
              "      <th>petal width (cm)</th>\n",
              "      <th>target</th>\n",
              "      <th>flower_species</th>\n",
              "    </tr>\n",
              "  </thead>\n",
              "  <tbody>\n",
              "    <tr>\n",
              "      <th>0</th>\n",
              "      <td>5.1</td>\n",
              "      <td>3.5</td>\n",
              "      <td>1.4</td>\n",
              "      <td>0.2</td>\n",
              "      <td>0</td>\n",
              "      <td>setosa</td>\n",
              "    </tr>\n",
              "    <tr>\n",
              "      <th>1</th>\n",
              "      <td>4.9</td>\n",
              "      <td>3.0</td>\n",
              "      <td>1.4</td>\n",
              "      <td>0.2</td>\n",
              "      <td>0</td>\n",
              "      <td>setosa</td>\n",
              "    </tr>\n",
              "    <tr>\n",
              "      <th>2</th>\n",
              "      <td>4.7</td>\n",
              "      <td>3.2</td>\n",
              "      <td>1.3</td>\n",
              "      <td>0.2</td>\n",
              "      <td>0</td>\n",
              "      <td>setosa</td>\n",
              "    </tr>\n",
              "  </tbody>\n",
              "</table>\n",
              "</div>\n",
              "      <button class=\"colab-df-convert\" onclick=\"convertToInteractive('df-32ea6a46-78b3-4480-a144-3e32a1a3acdc')\"\n",
              "              title=\"Convert this dataframe to an interactive table.\"\n",
              "              style=\"display:none;\">\n",
              "        \n",
              "  <svg xmlns=\"http://www.w3.org/2000/svg\" height=\"24px\"viewBox=\"0 0 24 24\"\n",
              "       width=\"24px\">\n",
              "    <path d=\"M0 0h24v24H0V0z\" fill=\"none\"/>\n",
              "    <path d=\"M18.56 5.44l.94 2.06.94-2.06 2.06-.94-2.06-.94-.94-2.06-.94 2.06-2.06.94zm-11 1L8.5 8.5l.94-2.06 2.06-.94-2.06-.94L8.5 2.5l-.94 2.06-2.06.94zm10 10l.94 2.06.94-2.06 2.06-.94-2.06-.94-.94-2.06-.94 2.06-2.06.94z\"/><path d=\"M17.41 7.96l-1.37-1.37c-.4-.4-.92-.59-1.43-.59-.52 0-1.04.2-1.43.59L10.3 9.45l-7.72 7.72c-.78.78-.78 2.05 0 2.83L4 21.41c.39.39.9.59 1.41.59.51 0 1.02-.2 1.41-.59l7.78-7.78 2.81-2.81c.8-.78.8-2.07 0-2.86zM5.41 20L4 18.59l7.72-7.72 1.47 1.35L5.41 20z\"/>\n",
              "  </svg>\n",
              "      </button>\n",
              "      \n",
              "  <style>\n",
              "    .colab-df-container {\n",
              "      display:flex;\n",
              "      flex-wrap:wrap;\n",
              "      gap: 12px;\n",
              "    }\n",
              "\n",
              "    .colab-df-convert {\n",
              "      background-color: #E8F0FE;\n",
              "      border: none;\n",
              "      border-radius: 50%;\n",
              "      cursor: pointer;\n",
              "      display: none;\n",
              "      fill: #1967D2;\n",
              "      height: 32px;\n",
              "      padding: 0 0 0 0;\n",
              "      width: 32px;\n",
              "    }\n",
              "\n",
              "    .colab-df-convert:hover {\n",
              "      background-color: #E2EBFA;\n",
              "      box-shadow: 0px 1px 2px rgba(60, 64, 67, 0.3), 0px 1px 3px 1px rgba(60, 64, 67, 0.15);\n",
              "      fill: #174EA6;\n",
              "    }\n",
              "\n",
              "    [theme=dark] .colab-df-convert {\n",
              "      background-color: #3B4455;\n",
              "      fill: #D2E3FC;\n",
              "    }\n",
              "\n",
              "    [theme=dark] .colab-df-convert:hover {\n",
              "      background-color: #434B5C;\n",
              "      box-shadow: 0px 1px 3px 1px rgba(0, 0, 0, 0.15);\n",
              "      filter: drop-shadow(0px 1px 2px rgba(0, 0, 0, 0.3));\n",
              "      fill: #FFFFFF;\n",
              "    }\n",
              "  </style>\n",
              "\n",
              "      <script>\n",
              "        const buttonEl =\n",
              "          document.querySelector('#df-32ea6a46-78b3-4480-a144-3e32a1a3acdc button.colab-df-convert');\n",
              "        buttonEl.style.display =\n",
              "          google.colab.kernel.accessAllowed ? 'block' : 'none';\n",
              "\n",
              "        async function convertToInteractive(key) {\n",
              "          const element = document.querySelector('#df-32ea6a46-78b3-4480-a144-3e32a1a3acdc');\n",
              "          const dataTable =\n",
              "            await google.colab.kernel.invokeFunction('convertToInteractive',\n",
              "                                                     [key], {});\n",
              "          if (!dataTable) return;\n",
              "\n",
              "          const docLinkHtml = 'Like what you see? Visit the ' +\n",
              "            '<a target=\"_blank\" href=https://colab.research.google.com/notebooks/data_table.ipynb>data table notebook</a>'\n",
              "            + ' to learn more about interactive tables.';\n",
              "          element.innerHTML = '';\n",
              "          dataTable['output_type'] = 'display_data';\n",
              "          await google.colab.output.renderOutput(dataTable, element);\n",
              "          const docLink = document.createElement('div');\n",
              "          docLink.innerHTML = docLinkHtml;\n",
              "          element.appendChild(docLink);\n",
              "        }\n",
              "      </script>\n",
              "    </div>\n",
              "  </div>\n",
              "  "
            ]
          },
          "metadata": {},
          "execution_count": 6
        }
      ]
    },
    {
      "cell_type": "code",
      "source": [
        "# Build Machine Learning Model\n",
        "#Lets create feature matrix X  and y labels\n",
        "X = df[['sepal length (cm)', 'sepal width (cm)', 'petal length (cm)', 'petal width (cm)']]\n",
        "y = df[['target']]\n",
        "\n",
        "print('X shape=', X.shape)\n",
        "print('y shape=', y.shape)"
      ],
      "metadata": {
        "colab": {
          "base_uri": "https://localhost:8080/"
        },
        "id": "4PH-E2_iuoZB",
        "outputId": "409a5966-1147-4425-8423-e163f5c8384c"
      },
      "execution_count": null,
      "outputs": [
        {
          "output_type": "stream",
          "name": "stdout",
          "text": [
            "X shape= (150, 4)\n",
            "y shape= (150, 1)\n"
          ]
        }
      ]
    },
    {
      "cell_type": "markdown",
      "source": [
        "###Create Test And Train Dataset\n",
        "\n",
        "We will split the dataset, so that we can use one set of data for training the model and one set of data for testing the model\n",
        "\n",
        "We will keep 20% of data for testing and 80% of data for training the model\n"
      ],
      "metadata": {
        "id": "dwB6wkfVu1nH"
      }
    },
    {
      "cell_type": "code",
      "source": [
        "X_train,X_test, y_train, y_test = model_selection.train_test_split(X, y, test_size= 0.2, random_state= 1)\n",
        "print('X_train dimension= ', X_train.shape)\n",
        "print('X_test dimension= ', X_test.shape)\n",
        "print('y_train dimension= ', y_train.shape)\n",
        "print('y_train dimension= ', y_test.shape)"
      ],
      "metadata": {
        "colab": {
          "base_uri": "https://localhost:8080/"
        },
        "id": "2BgEUxvwuxTV",
        "outputId": "726c4857-ad39-4fb4-e4b8-5a80aeeb1073"
      },
      "execution_count": null,
      "outputs": [
        {
          "output_type": "stream",
          "name": "stdout",
          "text": [
            "X_train dimension=  (120, 4)\n",
            "X_test dimension=  (30, 4)\n",
            "y_train dimension=  (120, 1)\n",
            "y_train dimension=  (30, 1)\n"
          ]
        }
      ]
    },
    {
      "cell_type": "markdown",
      "source": [
        "Now lets train the model using Decision Tree"
      ],
      "metadata": {
        "id": "YcBtTDEVu-MZ"
      }
    },
    {
      "cell_type": "code",
      "source": [
        "\"\"\"\n",
        "To obtain a deterministic behaviour during fitting always set value for 'random_state' attribute\n",
        "Also note that default value of criteria to split the data is 'gini'\n",
        "\"\"\"\n",
        "cls = tree.DecisionTreeClassifier(random_state= 1)\n",
        "cls.fit(X_train ,y_train)"
      ],
      "metadata": {
        "colab": {
          "base_uri": "https://localhost:8080/"
        },
        "id": "p01JKu4hu7Lp",
        "outputId": "adc72f21-d59e-452d-9489-ae6ea5a7739f"
      },
      "execution_count": null,
      "outputs": [
        {
          "output_type": "execute_result",
          "data": {
            "text/plain": [
              "DecisionTreeClassifier(random_state=1)"
            ]
          },
          "metadata": {},
          "execution_count": 9
        }
      ]
    },
    {
      "cell_type": "markdown",
      "source": [
        "![image.png](data:image/png;base64,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)"
      ],
      "metadata": {
        "id": "3seEnVxivNND"
      }
    },
    {
      "cell_type": "markdown",
      "source": [
        "### Testing The Model\n",
        "For testing we are going to use the test data only\n",
        "\n",
        "Question: Predict the species of 10th, 20th and 29th test example from test data"
      ],
      "metadata": {
        "id": "8gtY5lrMvW9w"
      }
    },
    {
      "cell_type": "code",
      "source": [
        "print('Actual value of species for 10th training example=',iris.target_names[y_test.iloc[10]][0])\n",
        "print('Predicted value of species for 10th training example=', iris.target_names[cls.predict([X_test.iloc[10]])][0])\n",
        "\n",
        "print('\\nActual value of species for 20th training example=',iris.target_names[y_test.iloc[20]][0])\n",
        "print('Predicted value of species for 20th training example=', iris.target_names[cls.predict([X_test.iloc[20]])][0])\n",
        "\n",
        "print('\\nActual value of species for 30th training example=',iris.target_names[y_test.iloc[29]][0])\n",
        "print('Predicted value of species for 30th training example=', iris.target_names[cls.predict([X_test.iloc[29]])][0])"
      ],
      "metadata": {
        "colab": {
          "base_uri": "https://localhost:8080/"
        },
        "id": "bI0PF3x3vBRE",
        "outputId": "aed645bd-0548-4ae4-d39b-222b6efc1479"
      },
      "execution_count": null,
      "outputs": [
        {
          "output_type": "stream",
          "name": "stdout",
          "text": [
            "Actual value of species for 10th training example= versicolor\n",
            "Predicted value of species for 10th training example= versicolor\n",
            "\n",
            "Actual value of species for 20th training example= versicolor\n",
            "Predicted value of species for 20th training example= versicolor\n",
            "\n",
            "Actual value of species for 30th training example= virginica\n",
            "Predicted value of species for 30th training example= virginica\n"
          ]
        },
        {
          "output_type": "stream",
          "name": "stderr",
          "text": [
            "/usr/local/lib/python3.7/dist-packages/sklearn/base.py:451: UserWarning: X does not have valid feature names, but DecisionTreeClassifier was fitted with feature names\n",
            "  \"X does not have valid feature names, but\"\n",
            "/usr/local/lib/python3.7/dist-packages/sklearn/base.py:451: UserWarning: X does not have valid feature names, but DecisionTreeClassifier was fitted with feature names\n",
            "  \"X does not have valid feature names, but\"\n",
            "/usr/local/lib/python3.7/dist-packages/sklearn/base.py:451: UserWarning: X does not have valid feature names, but DecisionTreeClassifier was fitted with feature names\n",
            "  \"X does not have valid feature names, but\"\n"
          ]
        }
      ]
    },
    {
      "cell_type": "markdown",
      "source": [
        "Model Score\n",
        "\n",
        "Check the model score using test data"
      ],
      "metadata": {
        "id": "9rQddcYovjN8"
      }
    },
    {
      "cell_type": "code",
      "source": [
        "cls.score(X_test, y_test)"
      ],
      "metadata": {
        "colab": {
          "base_uri": "https://localhost:8080/"
        },
        "id": "kFB2DipqvE_A",
        "outputId": "ca13d680-d448-4b69-a54d-0e7e13e220af"
      },
      "execution_count": null,
      "outputs": [
        {
          "output_type": "execute_result",
          "data": {
            "text/plain": [
              "0.9666666666666667"
            ]
          },
          "metadata": {},
          "execution_count": 12
        }
      ]
    },
    {
      "cell_type": "code",
      "source": [
        "tree.plot_tree(cls) "
      ],
      "metadata": {
        "colab": {
          "base_uri": "https://localhost:8080/",
          "height": 508
        },
        "id": "dZ6lNjdIvm5k",
        "outputId": "1ce2ec0b-c3c7-4385-f555-e82daf792d69"
      },
      "execution_count": null,
      "outputs": [
        {
          "output_type": "execute_result",
          "data": {
            "text/plain": [
              "[Text(0.4, 0.9166666666666666, 'X[3] <= 0.8\\ngini = 0.665\\nsamples = 120\\nvalue = [39, 37, 44]'),\n",
              " Text(0.3, 0.75, 'gini = 0.0\\nsamples = 39\\nvalue = [39, 0, 0]'),\n",
              " Text(0.5, 0.75, 'X[3] <= 1.65\\ngini = 0.496\\nsamples = 81\\nvalue = [0, 37, 44]'),\n",
              " Text(0.2, 0.5833333333333334, 'X[2] <= 4.95\\ngini = 0.18\\nsamples = 40\\nvalue = [0, 36, 4]'),\n",
              " Text(0.1, 0.4166666666666667, 'gini = 0.0\\nsamples = 35\\nvalue = [0, 35, 0]'),\n",
              " Text(0.3, 0.4166666666666667, 'X[0] <= 6.05\\ngini = 0.32\\nsamples = 5\\nvalue = [0, 1, 4]'),\n",
              " Text(0.2, 0.25, 'X[3] <= 1.55\\ngini = 0.5\\nsamples = 2\\nvalue = [0, 1, 1]'),\n",
              " Text(0.1, 0.08333333333333333, 'gini = 0.0\\nsamples = 1\\nvalue = [0, 0, 1]'),\n",
              " Text(0.3, 0.08333333333333333, 'gini = 0.0\\nsamples = 1\\nvalue = [0, 1, 0]'),\n",
              " Text(0.4, 0.25, 'gini = 0.0\\nsamples = 3\\nvalue = [0, 0, 3]'),\n",
              " Text(0.8, 0.5833333333333334, 'X[2] <= 4.85\\ngini = 0.048\\nsamples = 41\\nvalue = [0, 1, 40]'),\n",
              " Text(0.7, 0.4166666666666667, 'X[1] <= 3.1\\ngini = 0.375\\nsamples = 4\\nvalue = [0, 1, 3]'),\n",
              " Text(0.6, 0.25, 'gini = 0.0\\nsamples = 3\\nvalue = [0, 0, 3]'),\n",
              " Text(0.8, 0.25, 'gini = 0.0\\nsamples = 1\\nvalue = [0, 1, 0]'),\n",
              " Text(0.9, 0.4166666666666667, 'gini = 0.0\\nsamples = 37\\nvalue = [0, 0, 37]')]"
            ]
          },
          "metadata": {},
          "execution_count": 13
        },
        {
          "output_type": "display_data",
          "data": {
            "text/plain": [
              "<Figure size 432x288 with 1 Axes>"
            ],
            "image/png": "[encoded data removed]"
          },
          "metadata": {
            "needs_background": "light"
          }
        }
      ]
    },
    {
      "cell_type": "code",
      "source": [
        "#Exporting Decision Tree\n",
        "dot_data = tree.export_graphviz(cls, out_file=None) \n",
        "graph = graphviz.Source(dot_data) \n",
        "graph.render(\"iris_decision_tree\") "
      ],
      "metadata": {
        "colab": {
          "base_uri": "https://localhost:8080/",
          "height": 35
        },
        "id": "3GRh5LkKvs85",
        "outputId": "eb9aa897-eee5-4a9a-d1e1-981ce2c96171"
      },
      "execution_count": null,
      "outputs": [
        {
          "output_type": "execute_result",
          "data": {
            "text/plain": [
              "'iris_decision_tree.pdf'"
            ],
            "application/vnd.google.colaboratory.intrinsic+json": {
              "type": "string"
            }
          },
          "metadata": {},
          "execution_count": 14
        }
      ]
    },
    {
      "cell_type": "code",
      "source": [
        "dot_data = tree.export_graphviz(cls, out_file=None, \n",
        "                      feature_names=iris.feature_names,  \n",
        "                      class_names=iris.target_names,  \n",
        "                      filled=True, rounded=True,  \n",
        "                      special_characters=True)  \n",
        "graph = graphviz.Source(dot_data)  \n",
        "graph "
      ],
      "metadata": {
        "colab": {
          "base_uri": "https://localhost:8080/",
          "height": 916
        },
        "id": "YhbSTh_Bvzxf",
        "outputId": "6e88481e-2545-4078-d0da-3c053398b587"
      },
      "execution_count": null,
      "outputs": [
        {
          "output_type": "execute_result",
          "data": {
            "text/plain": [
              "<graphviz.files.Source at 0x7fa18dfa3510>"
            ],
            "image/svg+xml": "<?xml version=\"1.0\" encoding=\"UTF-8\" standalone=\"no\"?>\n<!DOCTYPE svg PUBLIC \"-//W3C//DTD SVG 1.1//EN\"\n \"http://www.w3.org/Graphics/SVG/1.1/DTD/svg11.dtd\">\n<!-- Generated by graphviz version 2.40.1 (20161225.0304)\n -->\n<!-- Title: Tree Pages: 1 -->\n<svg width=\"688pt\" height=\"671pt\"\n viewBox=\"0.00 0.00 688.00 671.00\" xmlns=\"http://www.w3.org/2000/svg\" xmlns:xlink=\"http://www.w3.org/1999/xlink\">\n<g id=\"graph0\" class=\"graph\" transform=\"scale(1 1) rotate(0) translate(4 667)\">\n<title>Tree</title>\n<polygon fill=\"#ffffff\" stroke=\"transparent\" points=\"-4,4 -4,-667 684,-667 684,4 -4,4\"/>\n<!-- 0 -->\n<g id=\"node1\" class=\"node\">\n<title>0</title>\n<path fill=\"#f7f3fd\" stroke=\"#000000\" d=\"M353,-663C353,-663 224,-663 224,-663 218,-663 212,-657 212,-651 212,-651 212,-592 212,-592 212,-586 218,-580 224,-580 224,-580 353,-580 353,-580 359,-580 365,-586 365,-592 365,-592 365,-651 365,-651 365,-657 359,-663 353,-663\"/>\n<text text-anchor=\"start\" x=\"220\" y=\"-647.8\" font-family=\"Helvetica,sans-Serif\" font-size=\"14.00\" fill=\"#000000\">petal width (cm) ≤ 0.8</text>\n<text text-anchor=\"start\" x=\"250.5\" y=\"-632.8\" font-family=\"Helvetica,sans-Serif\" font-size=\"14.00\" fill=\"#000000\">gini = 0.665</text>\n<text text-anchor=\"start\" x=\"240.5\" y=\"-617.8\" font-family=\"Helvetica,sans-Serif\" font-size=\"14.00\" fill=\"#000000\">samples = 120</text>\n<text text-anchor=\"start\" x=\"226.5\" y=\"-602.8\" font-family=\"Helvetica,sans-Serif\" font-size=\"14.00\" fill=\"#000000\">value = [39, 37, 44]</text>\n<text text-anchor=\"start\" x=\"237\" y=\"-587.8\" font-family=\"Helvetica,sans-Serif\" font-size=\"14.00\" fill=\"#000000\">class = virginica</text>\n</g>\n<!-- 1 -->\n<g id=\"node2\" class=\"node\">\n<title>1</title>\n<path fill=\"#e58139\" stroke=\"#000000\" d=\"M258,-536.5C258,-536.5 159,-536.5 159,-536.5 153,-536.5 147,-530.5 147,-524.5 147,-524.5 147,-480.5 147,-480.5 147,-474.5 153,-468.5 159,-468.5 159,-468.5 258,-468.5 258,-468.5 264,-468.5 270,-474.5 270,-480.5 270,-480.5 270,-524.5 270,-524.5 270,-530.5 264,-536.5 258,-536.5\"/>\n<text text-anchor=\"start\" x=\"179\" y=\"-521.3\" font-family=\"Helvetica,sans-Serif\" font-size=\"14.00\" fill=\"#000000\">gini = 0.0</text>\n<text text-anchor=\"start\" x=\"164.5\" y=\"-506.3\" font-family=\"Helvetica,sans-Serif\" font-size=\"14.00\" fill=\"#000000\">samples = 39</text>\n<text text-anchor=\"start\" x=\"155\" y=\"-491.3\" font-family=\"Helvetica,sans-Serif\" font-size=\"14.00\" fill=\"#000000\">value = [39, 0, 0]</text>\n<text text-anchor=\"start\" x=\"161.5\" y=\"-476.3\" font-family=\"Helvetica,sans-Serif\" font-size=\"14.00\" fill=\"#000000\">class = setosa</text>\n</g>\n<!-- 0&#45;&gt;1 -->\n<g id=\"edge1\" class=\"edge\">\n<title>0&#45;&gt;1</title>\n<path fill=\"none\" stroke=\"#000000\" d=\"M260.5199,-579.8796C252.9797,-568.6636 244.8113,-556.5131 237.2309,-545.2372\"/>\n<polygon fill=\"#000000\" stroke=\"#000000\" points=\"240.0527,-543.1612 231.5689,-536.8149 234.2434,-547.0667 240.0527,-543.1612\"/>\n<text text-anchor=\"middle\" x=\"226.7608\" y=\"-557.6482\" font-family=\"Helvetica,sans-Serif\" font-size=\"14.00\" fill=\"#000000\">True</text>\n</g>\n<!-- 2 -->\n<g id=\"node3\" class=\"node\">\n<title>2</title>\n<path fill=\"#ebe0fb\" stroke=\"#000000\" d=\"M437,-544C437,-544 300,-544 300,-544 294,-544 288,-538 288,-532 288,-532 288,-473 288,-473 288,-467 294,-461 300,-461 300,-461 437,-461 437,-461 443,-461 449,-467 449,-473 449,-473 449,-532 449,-532 449,-538 443,-544 437,-544\"/>\n<text text-anchor=\"start\" x=\"296\" y=\"-528.8\" font-family=\"Helvetica,sans-Serif\" font-size=\"14.00\" fill=\"#000000\">petal width (cm) ≤ 1.65</text>\n<text text-anchor=\"start\" x=\"330.5\" y=\"-513.8\" font-family=\"Helvetica,sans-Serif\" font-size=\"14.00\" fill=\"#000000\">gini = 0.496</text>\n<text text-anchor=\"start\" x=\"324.5\" y=\"-498.8\" font-family=\"Helvetica,sans-Serif\" font-size=\"14.00\" fill=\"#000000\">samples = 81</text>\n<text text-anchor=\"start\" x=\"311\" y=\"-483.8\" font-family=\"Helvetica,sans-Serif\" font-size=\"14.00\" fill=\"#000000\">value = [0, 37, 44]</text>\n<text text-anchor=\"start\" x=\"317\" y=\"-468.8\" font-family=\"Helvetica,sans-Serif\" font-size=\"14.00\" fill=\"#000000\">class = virginica</text>\n</g>\n<!-- 0&#45;&gt;2 -->\n<g id=\"edge2\" class=\"edge\">\n<title>0&#45;&gt;2</title>\n<path fill=\"none\" stroke=\"#000000\" d=\"M316.4801,-579.8796C322.3531,-571.1434 328.6073,-561.8404 334.6679,-552.8253\"/>\n<polygon fill=\"#000000\" stroke=\"#000000\" points=\"337.7259,-554.5498 340.4005,-544.2981 331.9166,-550.6444 337.7259,-554.5498\"/>\n<text text-anchor=\"middle\" x=\"345.2085\" y=\"-565.1314\" font-family=\"Helvetica,sans-Serif\" font-size=\"14.00\" fill=\"#000000\">False</text>\n</g>\n<!-- 3 -->\n<g id=\"node4\" class=\"node\">\n<title>3</title>\n<path fill=\"#4fe88f\" stroke=\"#000000\" d=\"M348,-425C348,-425 205,-425 205,-425 199,-425 193,-419 193,-413 193,-413 193,-354 193,-354 193,-348 199,-342 205,-342 205,-342 348,-342 348,-342 354,-342 360,-348 360,-354 360,-354 360,-413 360,-413 360,-419 354,-425 348,-425\"/>\n<text text-anchor=\"start\" x=\"201\" y=\"-409.8\" font-family=\"Helvetica,sans-Serif\" font-size=\"14.00\" fill=\"#000000\">petal length (cm) ≤ 4.95</text>\n<text text-anchor=\"start\" x=\"243\" y=\"-394.8\" font-family=\"Helvetica,sans-Serif\" font-size=\"14.00\" fill=\"#000000\">gini = 0.18</text>\n<text text-anchor=\"start\" x=\"232.5\" y=\"-379.8\" font-family=\"Helvetica,sans-Serif\" font-size=\"14.00\" fill=\"#000000\">samples = 40</text>\n<text text-anchor=\"start\" x=\"223\" y=\"-364.8\" font-family=\"Helvetica,sans-Serif\" font-size=\"14.00\" fill=\"#000000\">value = [0, 36, 4]</text>\n<text text-anchor=\"start\" x=\"220.5\" y=\"-349.8\" font-family=\"Helvetica,sans-Serif\" font-size=\"14.00\" fill=\"#000000\">class = versicolor</text>\n</g>\n<!-- 2&#45;&gt;3 -->\n<g id=\"edge3\" class=\"edge\">\n<title>2&#45;&gt;3</title>\n<path fill=\"none\" stroke=\"#000000\" d=\"M336.3229,-460.8796C329.4296,-451.9633 322.0798,-442.4565 314.9761,-433.268\"/>\n<polygon fill=\"#000000\" stroke=\"#000000\" points=\"317.6999,-431.0687 308.8145,-425.2981 312.1619,-435.3502 317.6999,-431.0687\"/>\n</g>\n<!-- 10 -->\n<g id=\"node11\" class=\"node\">\n<title>10</title>\n<path fill=\"#843ee6\" stroke=\"#000000\" d=\"M533,-425C533,-425 390,-425 390,-425 384,-425 378,-419 378,-413 378,-413 378,-354 378,-354 378,-348 384,-342 390,-342 390,-342 533,-342 533,-342 539,-342 545,-348 545,-354 545,-354 545,-413 545,-413 545,-419 539,-425 533,-425\"/>\n<text text-anchor=\"start\" x=\"386\" y=\"-409.8\" font-family=\"Helvetica,sans-Serif\" font-size=\"14.00\" fill=\"#000000\">petal length (cm) ≤ 4.85</text>\n<text text-anchor=\"start\" x=\"423.5\" y=\"-394.8\" font-family=\"Helvetica,sans-Serif\" font-size=\"14.00\" fill=\"#000000\">gini = 0.048</text>\n<text text-anchor=\"start\" x=\"417.5\" y=\"-379.8\" font-family=\"Helvetica,sans-Serif\" font-size=\"14.00\" fill=\"#000000\">samples = 41</text>\n<text text-anchor=\"start\" x=\"408\" y=\"-364.8\" font-family=\"Helvetica,sans-Serif\" font-size=\"14.00\" fill=\"#000000\">value = [0, 1, 40]</text>\n<text text-anchor=\"start\" x=\"410\" y=\"-349.8\" font-family=\"Helvetica,sans-Serif\" font-size=\"14.00\" fill=\"#000000\">class = virginica</text>\n</g>\n<!-- 2&#45;&gt;10 -->\n<g id=\"edge10\" class=\"edge\">\n<title>2&#45;&gt;10</title>\n<path fill=\"none\" stroke=\"#000000\" d=\"M401.0269,-460.8796C407.9951,-451.9633 415.4247,-442.4565 422.6056,-433.268\"/>\n<polygon fill=\"#000000\" stroke=\"#000000\" points=\"425.4343,-435.3326 428.8343,-425.2981 419.9188,-431.0221 425.4343,-435.3326\"/>\n</g>\n<!-- 4 -->\n<g id=\"node5\" class=\"node\">\n<title>4</title>\n<path fill=\"#39e581\" stroke=\"#000000\" d=\"M161.5,-298.5C161.5,-298.5 57.5,-298.5 57.5,-298.5 51.5,-298.5 45.5,-292.5 45.5,-286.5 45.5,-286.5 45.5,-242.5 45.5,-242.5 45.5,-236.5 51.5,-230.5 57.5,-230.5 57.5,-230.5 161.5,-230.5 161.5,-230.5 167.5,-230.5 173.5,-236.5 173.5,-242.5 173.5,-242.5 173.5,-286.5 173.5,-286.5 173.5,-292.5 167.5,-298.5 161.5,-298.5\"/>\n<text text-anchor=\"start\" x=\"80\" y=\"-283.3\" font-family=\"Helvetica,sans-Serif\" font-size=\"14.00\" fill=\"#000000\">gini = 0.0</text>\n<text text-anchor=\"start\" x=\"65.5\" y=\"-268.3\" font-family=\"Helvetica,sans-Serif\" font-size=\"14.00\" fill=\"#000000\">samples = 35</text>\n<text text-anchor=\"start\" x=\"56\" y=\"-253.3\" font-family=\"Helvetica,sans-Serif\" font-size=\"14.00\" fill=\"#000000\">value = [0, 35, 0]</text>\n<text text-anchor=\"start\" x=\"53.5\" y=\"-238.3\" font-family=\"Helvetica,sans-Serif\" font-size=\"14.00\" fill=\"#000000\">class = versicolor</text>\n</g>\n<!-- 3&#45;&gt;4 -->\n<g id=\"edge4\" class=\"edge\">\n<title>3&#45;&gt;4</title>\n<path fill=\"none\" stroke=\"#000000\" d=\"M218.0915,-341.8796C201.036,-329.7263 182.4409,-316.4759 165.5359,-304.4297\"/>\n<polygon fill=\"#000000\" stroke=\"#000000\" points=\"167.562,-301.5759 157.3869,-298.623 163.4998,-307.2766 167.562,-301.5759\"/>\n</g>\n<!-- 5 -->\n<g id=\"node6\" class=\"node\">\n<title>5</title>\n<path fill=\"#a06aec\" stroke=\"#000000\" d=\"M351,-306C351,-306 204,-306 204,-306 198,-306 192,-300 192,-294 192,-294 192,-235 192,-235 192,-229 198,-223 204,-223 204,-223 351,-223 351,-223 357,-223 363,-229 363,-235 363,-235 363,-294 363,-294 363,-300 357,-306 351,-306\"/>\n<text text-anchor=\"start\" x=\"200\" y=\"-290.8\" font-family=\"Helvetica,sans-Serif\" font-size=\"14.00\" fill=\"#000000\">sepal length (cm) ≤ 6.05</text>\n<text text-anchor=\"start\" x=\"244\" y=\"-275.8\" font-family=\"Helvetica,sans-Serif\" font-size=\"14.00\" fill=\"#000000\">gini = 0.32</text>\n<text text-anchor=\"start\" x=\"238\" y=\"-260.8\" font-family=\"Helvetica,sans-Serif\" font-size=\"14.00\" fill=\"#000000\">samples = 5</text>\n<text text-anchor=\"start\" x=\"228\" y=\"-245.8\" font-family=\"Helvetica,sans-Serif\" font-size=\"14.00\" fill=\"#000000\">value = [0, 1, 4]</text>\n<text text-anchor=\"start\" x=\"226\" y=\"-230.8\" font-family=\"Helvetica,sans-Serif\" font-size=\"14.00\" fill=\"#000000\">class = virginica</text>\n</g>\n<!-- 3&#45;&gt;5 -->\n<g id=\"edge5\" class=\"edge\">\n<title>3&#45;&gt;5</title>\n<path fill=\"none\" stroke=\"#000000\" d=\"M276.8498,-341.8796C276.9186,-333.6838 276.9917,-324.9891 277.063,-316.5013\"/>\n<polygon fill=\"#000000\" stroke=\"#000000\" points=\"280.5645,-316.3272 277.1488,-306.2981 273.5648,-316.2683 280.5645,-316.3272\"/>\n</g>\n<!-- 6 -->\n<g id=\"node7\" class=\"node\">\n<title>6</title>\n<path fill=\"#ffffff\" stroke=\"#000000\" d=\"M199,-187C199,-187 62,-187 62,-187 56,-187 50,-181 50,-175 50,-175 50,-116 50,-116 50,-110 56,-104 62,-104 62,-104 199,-104 199,-104 205,-104 211,-110 211,-116 211,-116 211,-175 211,-175 211,-181 205,-187 199,-187\"/>\n<text text-anchor=\"start\" x=\"58\" y=\"-171.8\" font-family=\"Helvetica,sans-Serif\" font-size=\"14.00\" fill=\"#000000\">petal width (cm) ≤ 1.55</text>\n<text text-anchor=\"start\" x=\"101\" y=\"-156.8\" font-family=\"Helvetica,sans-Serif\" font-size=\"14.00\" fill=\"#000000\">gini = 0.5</text>\n<text text-anchor=\"start\" x=\"91\" y=\"-141.8\" font-family=\"Helvetica,sans-Serif\" font-size=\"14.00\" fill=\"#000000\">samples = 2</text>\n<text text-anchor=\"start\" x=\"81\" y=\"-126.8\" font-family=\"Helvetica,sans-Serif\" font-size=\"14.00\" fill=\"#000000\">value = [0, 1, 1]</text>\n<text text-anchor=\"start\" x=\"74.5\" y=\"-111.8\" font-family=\"Helvetica,sans-Serif\" font-size=\"14.00\" fill=\"#000000\">class = versicolor</text>\n</g>\n<!-- 5&#45;&gt;6 -->\n<g id=\"edge6\" class=\"edge\">\n<title>5&#45;&gt;6</title>\n<path fill=\"none\" stroke=\"#000000\" d=\"M226.0865,-222.8796C214.4048,-213.4229 201.9025,-203.302 189.919,-193.6011\"/>\n<polygon fill=\"#000000\" stroke=\"#000000\" points=\"192.1076,-190.8697 182.1329,-187.2981 187.7032,-196.3105 192.1076,-190.8697\"/>\n</g>\n<!-- 9 -->\n<g id=\"node10\" class=\"node\">\n<title>9</title>\n<path fill=\"#8139e5\" stroke=\"#000000\" d=\"M336,-179.5C336,-179.5 241,-179.5 241,-179.5 235,-179.5 229,-173.5 229,-167.5 229,-167.5 229,-123.5 229,-123.5 229,-117.5 235,-111.5 241,-111.5 241,-111.5 336,-111.5 336,-111.5 342,-111.5 348,-117.5 348,-123.5 348,-123.5 348,-167.5 348,-167.5 348,-173.5 342,-179.5 336,-179.5\"/>\n<text text-anchor=\"start\" x=\"259\" y=\"-164.3\" font-family=\"Helvetica,sans-Serif\" font-size=\"14.00\" fill=\"#000000\">gini = 0.0</text>\n<text text-anchor=\"start\" x=\"249\" y=\"-149.3\" font-family=\"Helvetica,sans-Serif\" font-size=\"14.00\" fill=\"#000000\">samples = 3</text>\n<text text-anchor=\"start\" x=\"239\" y=\"-134.3\" font-family=\"Helvetica,sans-Serif\" font-size=\"14.00\" fill=\"#000000\">value = [0, 0, 3]</text>\n<text text-anchor=\"start\" x=\"237\" y=\"-119.3\" font-family=\"Helvetica,sans-Serif\" font-size=\"14.00\" fill=\"#000000\">class = virginica</text>\n</g>\n<!-- 5&#45;&gt;9 -->\n<g id=\"edge9\" class=\"edge\">\n<title>5&#45;&gt;9</title>\n<path fill=\"none\" stroke=\"#000000\" d=\"M281.3473,-222.8796C282.3332,-212.2134 283.3973,-200.7021 284.3957,-189.9015\"/>\n<polygon fill=\"#000000\" stroke=\"#000000\" points=\"287.8926,-190.0947 285.328,-179.8149 280.9224,-189.4503 287.8926,-190.0947\"/>\n</g>\n<!-- 7 -->\n<g id=\"node8\" class=\"node\">\n<title>7</title>\n<path fill=\"#8139e5\" stroke=\"#000000\" d=\"M107,-68C107,-68 12,-68 12,-68 6,-68 0,-62 0,-56 0,-56 0,-12 0,-12 0,-6 6,0 12,0 12,0 107,0 107,0 113,0 119,-6 119,-12 119,-12 119,-56 119,-56 119,-62 113,-68 107,-68\"/>\n<text text-anchor=\"start\" x=\"30\" y=\"-52.8\" font-family=\"Helvetica,sans-Serif\" font-size=\"14.00\" fill=\"#000000\">gini = 0.0</text>\n<text text-anchor=\"start\" x=\"20\" y=\"-37.8\" font-family=\"Helvetica,sans-Serif\" font-size=\"14.00\" fill=\"#000000\">samples = 1</text>\n<text text-anchor=\"start\" x=\"10\" y=\"-22.8\" font-family=\"Helvetica,sans-Serif\" font-size=\"14.00\" fill=\"#000000\">value = [0, 0, 1]</text>\n<text text-anchor=\"start\" x=\"8\" y=\"-7.8\" font-family=\"Helvetica,sans-Serif\" font-size=\"14.00\" fill=\"#000000\">class = virginica</text>\n</g>\n<!-- 6&#45;&gt;7 -->\n<g id=\"edge7\" class=\"edge\">\n<title>6&#45;&gt;7</title>\n<path fill=\"none\" stroke=\"#000000\" d=\"M104.0622,-103.9815C98.444,-95.1585 92.5012,-85.8258 86.8497,-76.9506\"/>\n<polygon fill=\"#000000\" stroke=\"#000000\" points=\"89.6416,-74.8188 81.3181,-68.2637 83.7371,-78.5787 89.6416,-74.8188\"/>\n</g>\n<!-- 8 -->\n<g id=\"node9\" class=\"node\">\n<title>8</title>\n<path fill=\"#39e581\" stroke=\"#000000\" d=\"M253.5,-68C253.5,-68 149.5,-68 149.5,-68 143.5,-68 137.5,-62 137.5,-56 137.5,-56 137.5,-12 137.5,-12 137.5,-6 143.5,0 149.5,0 149.5,0 253.5,0 253.5,0 259.5,0 265.5,-6 265.5,-12 265.5,-12 265.5,-56 265.5,-56 265.5,-62 259.5,-68 253.5,-68\"/>\n<text text-anchor=\"start\" x=\"172\" y=\"-52.8\" font-family=\"Helvetica,sans-Serif\" font-size=\"14.00\" fill=\"#000000\">gini = 0.0</text>\n<text text-anchor=\"start\" x=\"162\" y=\"-37.8\" font-family=\"Helvetica,sans-Serif\" font-size=\"14.00\" fill=\"#000000\">samples = 1</text>\n<text text-anchor=\"start\" x=\"152\" y=\"-22.8\" font-family=\"Helvetica,sans-Serif\" font-size=\"14.00\" fill=\"#000000\">value = [0, 1, 0]</text>\n<text text-anchor=\"start\" x=\"145.5\" y=\"-7.8\" font-family=\"Helvetica,sans-Serif\" font-size=\"14.00\" fill=\"#000000\">class = versicolor</text>\n</g>\n<!-- 6&#45;&gt;8 -->\n<g id=\"edge8\" class=\"edge\">\n<title>6&#45;&gt;8</title>\n<path fill=\"none\" stroke=\"#000000\" d=\"M156.9378,-103.9815C162.556,-95.1585 168.4988,-85.8258 174.1503,-76.9506\"/>\n<polygon fill=\"#000000\" stroke=\"#000000\" points=\"177.2629,-78.5787 179.6819,-68.2637 171.3584,-74.8188 177.2629,-78.5787\"/>\n</g>\n<!-- 11 -->\n<g id=\"node12\" class=\"node\">\n<title>11</title>\n<path fill=\"#ab7bee\" stroke=\"#000000\" d=\"M527,-306C527,-306 394,-306 394,-306 388,-306 382,-300 382,-294 382,-294 382,-235 382,-235 382,-229 388,-223 394,-223 394,-223 527,-223 527,-223 533,-223 539,-229 539,-235 539,-235 539,-294 539,-294 539,-300 533,-306 527,-306\"/>\n<text text-anchor=\"start\" x=\"390\" y=\"-290.8\" font-family=\"Helvetica,sans-Serif\" font-size=\"14.00\" fill=\"#000000\">sepal width (cm) ≤ 3.1</text>\n<text text-anchor=\"start\" x=\"422.5\" y=\"-275.8\" font-family=\"Helvetica,sans-Serif\" font-size=\"14.00\" fill=\"#000000\">gini = 0.375</text>\n<text text-anchor=\"start\" x=\"421\" y=\"-260.8\" font-family=\"Helvetica,sans-Serif\" font-size=\"14.00\" fill=\"#000000\">samples = 4</text>\n<text text-anchor=\"start\" x=\"411\" y=\"-245.8\" font-family=\"Helvetica,sans-Serif\" font-size=\"14.00\" fill=\"#000000\">value = [0, 1, 3]</text>\n<text text-anchor=\"start\" x=\"409\" y=\"-230.8\" font-family=\"Helvetica,sans-Serif\" font-size=\"14.00\" fill=\"#000000\">class = virginica</text>\n</g>\n<!-- 10&#45;&gt;11 -->\n<g id=\"edge11\" class=\"edge\">\n<title>10&#45;&gt;11</title>\n<path fill=\"none\" stroke=\"#000000\" d=\"M461.1502,-341.8796C461.0814,-333.6838 461.0083,-324.9891 460.937,-316.5013\"/>\n<polygon fill=\"#000000\" stroke=\"#000000\" points=\"464.4352,-316.2683 460.8512,-306.2981 457.4355,-316.3272 464.4352,-316.2683\"/>\n</g>\n<!-- 14 -->\n<g id=\"node15\" class=\"node\">\n<title>14</title>\n<path fill=\"#8139e5\" stroke=\"#000000\" d=\"M668,-298.5C668,-298.5 569,-298.5 569,-298.5 563,-298.5 557,-292.5 557,-286.5 557,-286.5 557,-242.5 557,-242.5 557,-236.5 563,-230.5 569,-230.5 569,-230.5 668,-230.5 668,-230.5 674,-230.5 680,-236.5 680,-242.5 680,-242.5 680,-286.5 680,-286.5 680,-292.5 674,-298.5 668,-298.5\"/>\n<text text-anchor=\"start\" x=\"589\" y=\"-283.3\" font-family=\"Helvetica,sans-Serif\" font-size=\"14.00\" fill=\"#000000\">gini = 0.0</text>\n<text text-anchor=\"start\" x=\"574.5\" y=\"-268.3\" font-family=\"Helvetica,sans-Serif\" font-size=\"14.00\" fill=\"#000000\">samples = 37</text>\n<text text-anchor=\"start\" x=\"565\" y=\"-253.3\" font-family=\"Helvetica,sans-Serif\" font-size=\"14.00\" fill=\"#000000\">value = [0, 0, 37]</text>\n<text text-anchor=\"start\" x=\"567\" y=\"-238.3\" font-family=\"Helvetica,sans-Serif\" font-size=\"14.00\" fill=\"#000000\">class = virginica</text>\n</g>\n<!-- 10&#45;&gt;14 -->\n<g id=\"edge14\" class=\"edge\">\n<title>10&#45;&gt;14</title>\n<path fill=\"none\" stroke=\"#000000\" d=\"M516.411,-341.8796C532.2994,-329.8368 549.6091,-316.7167 565.3857,-304.7586\"/>\n<polygon fill=\"#000000\" stroke=\"#000000\" points=\"567.6253,-307.4529 573.4805,-298.623 563.3969,-301.8743 567.6253,-307.4529\"/>\n</g>\n<!-- 12 -->\n<g id=\"node13\" class=\"node\">\n<title>12</title>\n<path fill=\"#8139e5\" stroke=\"#000000\" d=\"M497,-179.5C497,-179.5 402,-179.5 402,-179.5 396,-179.5 390,-173.5 390,-167.5 390,-167.5 390,-123.5 390,-123.5 390,-117.5 396,-111.5 402,-111.5 402,-111.5 497,-111.5 497,-111.5 503,-111.5 509,-117.5 509,-123.5 509,-123.5 509,-167.5 509,-167.5 509,-173.5 503,-179.5 497,-179.5\"/>\n<text text-anchor=\"start\" x=\"420\" y=\"-164.3\" font-family=\"Helvetica,sans-Serif\" font-size=\"14.00\" fill=\"#000000\">gini = 0.0</text>\n<text text-anchor=\"start\" x=\"410\" y=\"-149.3\" font-family=\"Helvetica,sans-Serif\" font-size=\"14.00\" fill=\"#000000\">samples = 3</text>\n<text text-anchor=\"start\" x=\"400\" y=\"-134.3\" font-family=\"Helvetica,sans-Serif\" font-size=\"14.00\" fill=\"#000000\">value = [0, 0, 3]</text>\n<text text-anchor=\"start\" x=\"398\" y=\"-119.3\" font-family=\"Helvetica,sans-Serif\" font-size=\"14.00\" fill=\"#000000\">class = virginica</text>\n</g>\n<!-- 11&#45;&gt;12 -->\n<g id=\"edge12\" class=\"edge\">\n<title>11&#45;&gt;12</title>\n<path fill=\"none\" stroke=\"#000000\" d=\"M456.6527,-222.8796C455.6668,-212.2134 454.6027,-200.7021 453.6043,-189.9015\"/>\n<polygon fill=\"#000000\" stroke=\"#000000\" points=\"457.0776,-189.4503 452.672,-179.8149 450.1074,-190.0947 457.0776,-189.4503\"/>\n</g>\n<!-- 13 -->\n<g id=\"node14\" class=\"node\">\n<title>13</title>\n<path fill=\"#39e581\" stroke=\"#000000\" d=\"M643.5,-179.5C643.5,-179.5 539.5,-179.5 539.5,-179.5 533.5,-179.5 527.5,-173.5 527.5,-167.5 527.5,-167.5 527.5,-123.5 527.5,-123.5 527.5,-117.5 533.5,-111.5 539.5,-111.5 539.5,-111.5 643.5,-111.5 643.5,-111.5 649.5,-111.5 655.5,-117.5 655.5,-123.5 655.5,-123.5 655.5,-167.5 655.5,-167.5 655.5,-173.5 649.5,-179.5 643.5,-179.5\"/>\n<text text-anchor=\"start\" x=\"562\" y=\"-164.3\" font-family=\"Helvetica,sans-Serif\" font-size=\"14.00\" fill=\"#000000\">gini = 0.0</text>\n<text text-anchor=\"start\" x=\"552\" y=\"-149.3\" font-family=\"Helvetica,sans-Serif\" font-size=\"14.00\" fill=\"#000000\">samples = 1</text>\n<text text-anchor=\"start\" x=\"542\" y=\"-134.3\" font-family=\"Helvetica,sans-Serif\" font-size=\"14.00\" fill=\"#000000\">value = [0, 1, 0]</text>\n<text text-anchor=\"start\" x=\"535.5\" y=\"-119.3\" font-family=\"Helvetica,sans-Serif\" font-size=\"14.00\" fill=\"#000000\">class = versicolor</text>\n</g>\n<!-- 11&#45;&gt;13 -->\n<g id=\"edge13\" class=\"edge\">\n<title>11&#45;&gt;13</title>\n<path fill=\"none\" stroke=\"#000000\" d=\"M506.3174,-222.8796C519.2697,-211.1138 533.354,-198.3197 546.2714,-186.5855\"/>\n<polygon fill=\"#000000\" stroke=\"#000000\" points=\"548.6761,-189.1296 553.7247,-179.8149 543.9694,-183.9482 548.6761,-189.1296\"/>\n</g>\n</g>\n</svg>\n"
          },
          "metadata": {},
          "execution_count": 15
        }
      ]
    },
    {
      "cell_type": "markdown",
      "source": [
        "# Decision Tree Regressor:\n",
        "\n",
        "Regression Problem Example\n",
        "\n",
        "For regression exercise we are going to use sklearns Boston house prices dataset Objective is to predict house price based on available data.\n",
        "\n",
        "###Understanding the Boston house dataset:\n",
        "\n",
        "boston.DESCR > Complete description of dataset\n",
        "\n",
        "boston.data > Data to learn. There are 13 features, Median Value (attribute 14) is usually the target. Total 506 training sets\n",
        "\n",
        "CRIM per capita crime rate by town\n",
        "\n",
        "ZN proportion of residential land zoned for lots over 25,000 sq.ft.\n",
        "\n",
        "INDUS proportion of non-retail business acres per town\n",
        "\n",
        "CHAS Charles River dummy variable (= 1 if tract bounds river; 0 otherwise)\n",
        "\n",
        "NOX nitric oxides concentration (parts per 10 million)\n",
        "\n",
        "RM average number of rooms per dwelling\n",
        "\n",
        "AGE proportion of owner-occupied units built prior to 1940\n",
        "\n",
        "DIS weighted distances to five Boston employment centres\n",
        "\n",
        "RAD index of accessibility to radial highways\n",
        "\n",
        "TAX full-value property-tax rate per USD 10,000\n",
        "\n",
        "PTRATIO pupil-teacher ratio by town\n",
        "\n",
        "B 1000(Bk - 0.63)^2 where Bk is the proportion of blacks by town\n",
        "\n",
        "LSTAT % lower status of the population\n",
        "\n",
        "MEDV Median value of owner-occupied homes in USD 1000's\n",
        "\n",
        "boston.feature_names > Array of all 13 features ['CRIM' 'ZN' 'INDUS' 'CHAS' 'NOX' 'RM' 'AGE' 'DIS' 'RAD' 'TAX' 'PTRATIO' 'B' 'LSTAT']\n",
        "\n",
        "boston.filename > CSV file name\n",
        "\n",
        "boston.target > The price valueis in $1000’s\n",
        "\n",
        "From above details its clear that X = 'boston.data' and y= 'boston.target'"
      ],
      "metadata": {
        "id": "zae9Nqf9wLp2"
      }
    },
    {
      "cell_type": "code",
      "source": [
        "boston = datasets.load_boston()\n",
        "print('Dataset structure= ', dir(boston))\n",
        "\n",
        "df = pd.DataFrame(boston.data, columns = boston.feature_names)\n",
        "df['target'] = boston.target\n",
        "\n",
        "df.sample(5)"
      ],
      "metadata": {
        "colab": {
          "base_uri": "https://localhost:8080/",
          "height": 868
        },
        "id": "yrRy_6VbwCV6",
        "outputId": "cfabbed2-d077-4982-c16a-9dc6cedfeb30"
      },
      "execution_count": null,
      "outputs": [
        {
          "output_type": "stream",
          "name": "stdout",
          "text": [
            "Dataset structure=  ['DESCR', 'data', 'data_module', 'feature_names', 'filename', 'target']\n"
          ]
        },
        {
          "output_type": "stream",
          "name": "stderr",
          "text": [
            "/usr/local/lib/python3.7/dist-packages/sklearn/utils/deprecation.py:87: FutureWarning: Function load_boston is deprecated; `load_boston` is deprecated in 1.0 and will be removed in 1.2.\n",
            "\n",
            "    The Boston housing prices dataset has an ethical problem. You can refer to\n",
            "    the documentation of this function for further details.\n",
            "\n",
            "    The scikit-learn maintainers therefore strongly discourage the use of this\n",
            "    dataset unless the purpose of the code is to study and educate about\n",
            "    ethical issues in data science and machine learning.\n",
            "\n",
            "    In this special case, you can fetch the dataset from the original\n",
            "    source::\n",
            "\n",
            "        import pandas as pd\n",
            "        import numpy as np\n",
            "\n",
            "\n",
            "        data_url = \"http://lib.stat.cmu.edu/datasets/boston\"\n",
            "        raw_df = pd.read_csv(data_url, sep=\"\\s+\", skiprows=22, header=None)\n",
            "        data = np.hstack([raw_df.values[::2, :], raw_df.values[1::2, :2]])\n",
            "        target = raw_df.values[1::2, 2]\n",
            "\n",
            "    Alternative datasets include the California housing dataset (i.e.\n",
            "    :func:`~sklearn.datasets.fetch_california_housing`) and the Ames housing\n",
            "    dataset. You can load the datasets as follows::\n",
            "\n",
            "        from sklearn.datasets import fetch_california_housing\n",
            "        housing = fetch_california_housing()\n",
            "\n",
            "    for the California housing dataset and::\n",
            "\n",
            "        from sklearn.datasets import fetch_openml\n",
            "        housing = fetch_openml(name=\"house_prices\", as_frame=True)\n",
            "\n",
            "    for the Ames housing dataset.\n",
            "    \n",
            "  warnings.warn(msg, category=FutureWarning)\n"
          ]
        },
        {
          "output_type": "execute_result",
          "data": {
            "text/plain": [
              "         CRIM    ZN  INDUS  CHAS    NOX     RM   AGE     DIS   RAD    TAX  \\\n",
              "134   0.97617   0.0  21.89   0.0  0.624  5.757  98.4  2.3460   4.0  437.0   \n",
              "100   0.14866   0.0   8.56   0.0  0.520  6.727  79.9  2.7778   5.0  384.0   \n",
              "240   0.11329  30.0   4.93   0.0  0.428  6.897  54.3  6.3361   6.0  300.0   \n",
              "170   1.20742   0.0  19.58   0.0  0.605  5.875  94.6  2.4259   5.0  403.0   \n",
              "445  10.67180   0.0  18.10   0.0  0.740  6.459  94.8  1.9879  24.0  666.0   \n",
              "\n",
              "     PTRATIO       B  LSTAT  target  \n",
              "134     21.2  262.76  17.31    15.6  \n",
              "100     20.9  394.76   9.42    27.5  \n",
              "240     16.6  391.25  11.38    22.0  \n",
              "170     14.7  292.29  14.43    17.4  \n",
              "445     20.2   43.06  23.98    11.8  "
            ],
            "text/html": [
              "\n",
              "  <div id=\"df-41ef07fe-f6c2-4b15-95b8-6f0bc7c29711\">\n",
              "    <div class=\"colab-df-container\">\n",
              "      <div>\n",
              "<style scoped>\n",
              "    .dataframe tbody tr th:only-of-type {\n",
              "        vertical-align: middle;\n",
              "    }\n",
              "\n",
              "    .dataframe tbody tr th {\n",
              "        vertical-align: top;\n",
              "    }\n",
              "\n",
              "    .dataframe thead th {\n",
              "        text-align: right;\n",
              "    }\n",
              "</style>\n",
              "<table border=\"1\" class=\"dataframe\">\n",
              "  <thead>\n",
              "    <tr style=\"text-align: right;\">\n",
              "      <th></th>\n",
              "      <th>CRIM</th>\n",
              "      <th>ZN</th>\n",
              "      <th>INDUS</th>\n",
              "      <th>CHAS</th>\n",
              "      <th>NOX</th>\n",
              "      <th>RM</th>\n",
              "      <th>AGE</th>\n",
              "      <th>DIS</th>\n",
              "      <th>RAD</th>\n",
              "      <th>TAX</th>\n",
              "      <th>PTRATIO</th>\n",
              "      <th>B</th>\n",
              "      <th>LSTAT</th>\n",
              "      <th>target</th>\n",
              "    </tr>\n",
              "  </thead>\n",
              "  <tbody>\n",
              "    <tr>\n",
              "      <th>134</th>\n",
              "      <td>0.97617</td>\n",
              "      <td>0.0</td>\n",
              "      <td>21.89</td>\n",
              "      <td>0.0</td>\n",
              "      <td>0.624</td>\n",
              "      <td>5.757</td>\n",
              "      <td>98.4</td>\n",
              "      <td>2.3460</td>\n",
              "      <td>4.0</td>\n",
              "      <td>437.0</td>\n",
              "      <td>21.2</td>\n",
              "      <td>262.76</td>\n",
              "      <td>17.31</td>\n",
              "      <td>15.6</td>\n",
              "    </tr>\n",
              "    <tr>\n",
              "      <th>100</th>\n",
              "      <td>0.14866</td>\n",
              "      <td>0.0</td>\n",
              "      <td>8.56</td>\n",
              "      <td>0.0</td>\n",
              "      <td>0.520</td>\n",
              "      <td>6.727</td>\n",
              "      <td>79.9</td>\n",
              "      <td>2.7778</td>\n",
              "      <td>5.0</td>\n",
              "      <td>384.0</td>\n",
              "      <td>20.9</td>\n",
              "      <td>394.76</td>\n",
              "      <td>9.42</td>\n",
              "      <td>27.5</td>\n",
              "    </tr>\n",
              "    <tr>\n",
              "      <th>240</th>\n",
              "      <td>0.11329</td>\n",
              "      <td>30.0</td>\n",
              "      <td>4.93</td>\n",
              "      <td>0.0</td>\n",
              "      <td>0.428</td>\n",
              "      <td>6.897</td>\n",
              "      <td>54.3</td>\n",
              "      <td>6.3361</td>\n",
              "      <td>6.0</td>\n",
              "      <td>300.0</td>\n",
              "      <td>16.6</td>\n",
              "      <td>391.25</td>\n",
              "      <td>11.38</td>\n",
              "      <td>22.0</td>\n",
              "    </tr>\n",
              "    <tr>\n",
              "      <th>170</th>\n",
              "      <td>1.20742</td>\n",
              "      <td>0.0</td>\n",
              "      <td>19.58</td>\n",
              "      <td>0.0</td>\n",
              "      <td>0.605</td>\n",
              "      <td>5.875</td>\n",
              "      <td>94.6</td>\n",
              "      <td>2.4259</td>\n",
              "      <td>5.0</td>\n",
              "      <td>403.0</td>\n",
              "      <td>14.7</td>\n",
              "      <td>292.29</td>\n",
              "      <td>14.43</td>\n",
              "      <td>17.4</td>\n",
              "    </tr>\n",
              "    <tr>\n",
              "      <th>445</th>\n",
              "      <td>10.67180</td>\n",
              "      <td>0.0</td>\n",
              "      <td>18.10</td>\n",
              "      <td>0.0</td>\n",
              "      <td>0.740</td>\n",
              "      <td>6.459</td>\n",
              "      <td>94.8</td>\n",
              "      <td>1.9879</td>\n",
              "      <td>24.0</td>\n",
              "      <td>666.0</td>\n",
              "      <td>20.2</td>\n",
              "      <td>43.06</td>\n",
              "      <td>23.98</td>\n",
              "      <td>11.8</td>\n",
              "    </tr>\n",
              "  </tbody>\n",
              "</table>\n",
              "</div>\n",
              "      <button class=\"colab-df-convert\" onclick=\"convertToInteractive('df-41ef07fe-f6c2-4b15-95b8-6f0bc7c29711')\"\n",
              "              title=\"Convert this dataframe to an interactive table.\"\n",
              "              style=\"display:none;\">\n",
              "        \n",
              "  <svg xmlns=\"http://www.w3.org/2000/svg\" height=\"24px\"viewBox=\"0 0 24 24\"\n",
              "       width=\"24px\">\n",
              "    <path d=\"M0 0h24v24H0V0z\" fill=\"none\"/>\n",
              "    <path d=\"M18.56 5.44l.94 2.06.94-2.06 2.06-.94-2.06-.94-.94-2.06-.94 2.06-2.06.94zm-11 1L8.5 8.5l.94-2.06 2.06-.94-2.06-.94L8.5 2.5l-.94 2.06-2.06.94zm10 10l.94 2.06.94-2.06 2.06-.94-2.06-.94-.94-2.06-.94 2.06-2.06.94z\"/><path d=\"M17.41 7.96l-1.37-1.37c-.4-.4-.92-.59-1.43-.59-.52 0-1.04.2-1.43.59L10.3 9.45l-7.72 7.72c-.78.78-.78 2.05 0 2.83L4 21.41c.39.39.9.59 1.41.59.51 0 1.02-.2 1.41-.59l7.78-7.78 2.81-2.81c.8-.78.8-2.07 0-2.86zM5.41 20L4 18.59l7.72-7.72 1.47 1.35L5.41 20z\"/>\n",
              "  </svg>\n",
              "      </button>\n",
              "      \n",
              "  <style>\n",
              "    .colab-df-container {\n",
              "      display:flex;\n",
              "      flex-wrap:wrap;\n",
              "      gap: 12px;\n",
              "    }\n",
              "\n",
              "    .colab-df-convert {\n",
              "      background-color: #E8F0FE;\n",
              "      border: none;\n",
              "      border-radius: 50%;\n",
              "      cursor: pointer;\n",
              "      display: none;\n",
              "      fill: #1967D2;\n",
              "      height: 32px;\n",
              "      padding: 0 0 0 0;\n",
              "      width: 32px;\n",
              "    }\n",
              "\n",
              "    .colab-df-convert:hover {\n",
              "      background-color: #E2EBFA;\n",
              "      box-shadow: 0px 1px 2px rgba(60, 64, 67, 0.3), 0px 1px 3px 1px rgba(60, 64, 67, 0.15);\n",
              "      fill: #174EA6;\n",
              "    }\n",
              "\n",
              "    [theme=dark] .colab-df-convert {\n",
              "      background-color: #3B4455;\n",
              "      fill: #D2E3FC;\n",
              "    }\n",
              "\n",
              "    [theme=dark] .colab-df-convert:hover {\n",
              "      background-color: #434B5C;\n",
              "      box-shadow: 0px 1px 3px 1px rgba(0, 0, 0, 0.15);\n",
              "      filter: drop-shadow(0px 1px 2px rgba(0, 0, 0, 0.3));\n",
              "      fill: #FFFFFF;\n",
              "    }\n",
              "  </style>\n",
              "\n",
              "      <script>\n",
              "        const buttonEl =\n",
              "          document.querySelector('#df-41ef07fe-f6c2-4b15-95b8-6f0bc7c29711 button.colab-df-convert');\n",
              "        buttonEl.style.display =\n",
              "          google.colab.kernel.accessAllowed ? 'block' : 'none';\n",
              "\n",
              "        async function convertToInteractive(key) {\n",
              "          const element = document.querySelector('#df-41ef07fe-f6c2-4b15-95b8-6f0bc7c29711');\n",
              "          const dataTable =\n",
              "            await google.colab.kernel.invokeFunction('convertToInteractive',\n",
              "                                                     [key], {});\n",
              "          if (!dataTable) return;\n",
              "\n",
              "          const docLinkHtml = 'Like what you see? Visit the ' +\n",
              "            '<a target=\"_blank\" href=https://colab.research.google.com/notebooks/data_table.ipynb>data table notebook</a>'\n",
              "            + ' to learn more about interactive tables.';\n",
              "          element.innerHTML = '';\n",
              "          dataTable['output_type'] = 'display_data';\n",
              "          await google.colab.output.renderOutput(dataTable, element);\n",
              "          const docLink = document.createElement('div');\n",
              "          docLink.innerHTML = docLinkHtml;\n",
              "          element.appendChild(docLink);\n",
              "        }\n",
              "      </script>\n",
              "    </div>\n",
              "  </div>\n",
              "  "
            ]
          },
          "metadata": {},
          "execution_count": 16
        }
      ]
    },
    {
      "cell_type": "code",
      "source": [
        "#Lets create feature matrix X  and y labels\n",
        "X = df[['CRIM', 'ZN', 'INDUS', 'CHAS', 'NOX', 'RM', 'AGE', 'DIS', 'RAD', 'TAX', 'PTRATIO', 'B', 'LSTAT']]\n",
        "y = df[['target']]\n",
        "\n",
        "print('X shape=', X.shape)\n",
        "print('y shape=', y.shape)"
      ],
      "metadata": {
        "colab": {
          "base_uri": "https://localhost:8080/"
        },
        "id": "-BB78yQwwvPJ",
        "outputId": "eb3e2fa3-b6cb-4ed7-be66-37d56edceeb8"
      },
      "execution_count": null,
      "outputs": [
        {
          "output_type": "stream",
          "name": "stdout",
          "text": [
            "X shape= (506, 13)\n",
            "y shape= (506, 1)\n"
          ]
        }
      ]
    },
    {
      "cell_type": "code",
      "source": [
        "# Train Test split\n",
        "X_train,X_test, y_train, y_test = model_selection.train_test_split(X, y, test_size= 0.2, random_state= 1)\n",
        "print('X_train dimension= ', X_train.shape)\n",
        "print('X_test dimension= ', X_test.shape)\n",
        "print('y_train dimension= ', y_train.shape)\n",
        "print('y_train dimension= ', y_test.shape)"
      ],
      "metadata": {
        "colab": {
          "base_uri": "https://localhost:8080/"
        },
        "id": "X8aEcLt3wydQ",
        "outputId": "7e882543-e627-4574-9f60-ecfc74a3e91b"
      },
      "execution_count": null,
      "outputs": [
        {
          "output_type": "stream",
          "name": "stdout",
          "text": [
            "X_train dimension=  (404, 13)\n",
            "X_test dimension=  (102, 13)\n",
            "y_train dimension=  (404, 1)\n",
            "y_train dimension=  (102, 1)\n"
          ]
        }
      ]
    },
    {
      "cell_type": "code",
      "source": [
        "# Now lets train the model using Decision Tree\n",
        "\"\"\"\n",
        "To obtain a deterministic behaviour during fitting always set value for 'random_state' attribute\n",
        "To keep the tree simple I am using max_depth = 3\n",
        "Also note that default value of criteria to split the data is 'mse' (mean squared error)\n",
        "mse is equal to variance reduction as feature selection criterion and minimizes the L2 loss using the mean of each terminal node\n",
        "\"\"\"\n",
        "dtr = tree.DecisionTreeRegressor(max_depth= 3,random_state= 1)\n",
        "dtr.fit(X_train ,y_train)"
      ],
      "metadata": {
        "colab": {
          "base_uri": "https://localhost:8080/"
        },
        "id": "gPk-xW8-w5R3",
        "outputId": "55df92dd-7188-4e02-ad86-9ee4e74f94c5"
      },
      "execution_count": null,
      "outputs": [
        {
          "output_type": "execute_result",
          "data": {
            "text/plain": [
              "DecisionTreeRegressor(max_depth=3, random_state=1)"
            ]
          },
          "metadata": {},
          "execution_count": 19
        }
      ]
    },
    {
      "cell_type": "markdown",
      "source": [
        "![image.png](data:image/png;base64,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)"
      ],
      "metadata": {
        "id": "3IubGQXNxGqK"
      }
    },
    {
      "cell_type": "code",
      "source": [
        "# Model Score\n",
        "dtr.score(X_test, y_test)"
      ],
      "metadata": {
        "colab": {
          "base_uri": "https://localhost:8080/"
        },
        "id": "IMebcC8Dw_Cy",
        "outputId": "52b143c1-4112-4d8f-a91e-d13f53dc9ccb"
      },
      "execution_count": null,
      "outputs": [
        {
          "output_type": "execute_result",
          "data": {
            "text/plain": [
              "0.6647121948539862"
            ]
          },
          "metadata": {},
          "execution_count": 20
        }
      ]
    },
    {
      "cell_type": "code",
      "source": [
        "tree.plot_tree(dtr) "
      ],
      "metadata": {
        "colab": {
          "base_uri": "https://localhost:8080/",
          "height": 508
        },
        "id": "U3OoncSOxqBc",
        "outputId": "3fe2e30f-9514-4e23-a65b-515a06bc4afd"
      },
      "execution_count": null,
      "outputs": [
        {
          "output_type": "execute_result",
          "data": {
            "text/plain": [
              "[Text(0.5, 0.875, 'X[12] <= 9.725\\nsquared_error = 80.781\\nsamples = 404\\nvalue = 22.522'),\n",
              " Text(0.25, 0.625, 'X[5] <= 7.437\\nsquared_error = 73.352\\nsamples = 169\\nvalue = 29.659'),\n",
              " Text(0.125, 0.375, 'X[7] <= 1.485\\nsquared_error = 40.799\\nsamples = 147\\nvalue = 27.465'),\n",
              " Text(0.0625, 0.125, 'squared_error = 0.0\\nsamples = 4\\nvalue = 50.0'),\n",
              " Text(0.1875, 0.125, 'squared_error = 27.338\\nsamples = 143\\nvalue = 26.834'),\n",
              " Text(0.375, 0.375, 'X[5] <= 8.589\\nsquared_error = 43.794\\nsamples = 22\\nvalue = 44.318'),\n",
              " Text(0.3125, 0.125, 'squared_error = 20.808\\nsamples = 21\\nvalue = 45.386'),\n",
              " Text(0.4375, 0.125, 'squared_error = 0.0\\nsamples = 1\\nvalue = 21.9'),\n",
              " Text(0.75, 0.625, 'X[12] <= 16.085\\nsquared_error = 23.162\\nsamples = 235\\nvalue = 17.39'),\n",
              " Text(0.625, 0.375, 'X[2] <= 3.985\\nsquared_error = 9.361\\nsamples = 118\\nvalue = 20.343'),\n",
              " Text(0.5625, 0.125, 'squared_error = 20.712\\nsamples = 8\\nvalue = 25.162'),\n",
              " Text(0.6875, 0.125, 'squared_error = 6.724\\nsamples = 110\\nvalue = 19.993'),\n",
              " Text(0.875, 0.375, 'X[4] <= 0.603\\nsquared_error = 19.417\\nsamples = 117\\nvalue = 14.412'),\n",
              " Text(0.8125, 0.125, 'squared_error = 12.584\\nsamples = 42\\nvalue = 17.769'),\n",
              " Text(0.9375, 0.125, 'squared_error = 13.398\\nsamples = 75\\nvalue = 12.532')]"
            ]
          },
          "metadata": {},
          "execution_count": 21
        },
        {
          "output_type": "display_data",
          "data": {
            "text/plain": [
              "<Figure size 432x288 with 1 Axes>"
            ],
            "image/png": "[encoded data removed]"
          },
          "metadata": {
            "needs_background": "light"
          }
        }
      ]
    },
    {
      "cell_type": "code",
      "source": [
        "dot_data = tree.export_graphviz(dtr, out_file=None, \n",
        "                      feature_names=boston.feature_names,  \n",
        "                      filled=True, rounded=True,  \n",
        "                      special_characters=True)  \n",
        "graph = graphviz.Source(dot_data)  \n",
        "graph "
      ],
      "metadata": {
        "colab": {
          "base_uri": "https://localhost:8080/",
          "height": 538
        },
        "id": "x4WtPTHDxtk_",
        "outputId": "f99a4839-eeb3-4b79-abb9-5b8912dd9fff"
      },
      "execution_count": null,
      "outputs": [
        {
          "output_type": "execute_result",
          "data": {
            "text/plain": [
              "<graphviz.files.Source at 0x7fa18e0bd110>"
            ],
            "image/svg+xml": "<?xml version=\"1.0\" encoding=\"UTF-8\" standalone=\"no\"?>\n<!DOCTYPE svg PUBLIC \"-//W3C//DTD SVG 1.1//EN\"\n \"http://www.w3.org/Graphics/SVG/1.1/DTD/svg11.dtd\">\n<!-- Generated by graphviz version 2.40.1 (20161225.0304)\n -->\n<!-- Title: Tree Pages: 1 -->\n<svg width=\"1430pt\" height=\"373pt\"\n viewBox=\"0.00 0.00 1429.50 373.00\" xmlns=\"http://www.w3.org/2000/svg\" xmlns:xlink=\"http://www.w3.org/1999/xlink\">\n<g id=\"graph0\" class=\"graph\" transform=\"scale(1 1) rotate(0) translate(4 369)\">\n<title>Tree</title>\n<polygon fill=\"#ffffff\" stroke=\"transparent\" points=\"-4,4 -4,-369 1425.5,-369 1425.5,4 -4,4\"/>\n<!-- 0 -->\n<g id=\"node1\" class=\"node\">\n<title>0</title>\n<path fill=\"#f8ddca\" stroke=\"#000000\" d=\"M762.5,-365C762.5,-365 617.5,-365 617.5,-365 611.5,-365 605.5,-359 605.5,-353 605.5,-353 605.5,-309 605.5,-309 605.5,-303 611.5,-297 617.5,-297 617.5,-297 762.5,-297 762.5,-297 768.5,-297 774.5,-303 774.5,-309 774.5,-309 774.5,-353 774.5,-353 774.5,-359 768.5,-365 762.5,-365\"/>\n<text text-anchor=\"start\" x=\"641.5\" y=\"-349.8\" font-family=\"Helvetica,sans-Serif\" font-size=\"14.00\" fill=\"#000000\">LSTAT ≤ 9.725</text>\n<text text-anchor=\"start\" x=\"613.5\" y=\"-334.8\" font-family=\"Helvetica,sans-Serif\" font-size=\"14.00\" fill=\"#000000\">squared_error = 80.781</text>\n<text text-anchor=\"start\" x=\"642\" y=\"-319.8\" font-family=\"Helvetica,sans-Serif\" font-size=\"14.00\" fill=\"#000000\">samples = 404</text>\n<text text-anchor=\"start\" x=\"641.5\" y=\"-304.8\" font-family=\"Helvetica,sans-Serif\" font-size=\"14.00\" fill=\"#000000\">value = 22.522</text>\n</g>\n<!-- 1 -->\n<g id=\"node2\" class=\"node\">\n<title>1</title>\n<path fill=\"#f3c5a4\" stroke=\"#000000\" d=\"M587.5,-261C587.5,-261 442.5,-261 442.5,-261 436.5,-261 430.5,-255 430.5,-249 430.5,-249 430.5,-205 430.5,-205 430.5,-199 436.5,-193 442.5,-193 442.5,-193 587.5,-193 587.5,-193 593.5,-193 599.5,-199 599.5,-205 599.5,-205 599.5,-249 599.5,-249 599.5,-255 593.5,-261 587.5,-261\"/>\n<text text-anchor=\"start\" x=\"477.5\" y=\"-245.8\" font-family=\"Helvetica,sans-Serif\" font-size=\"14.00\" fill=\"#000000\">RM ≤ 7.437</text>\n<text text-anchor=\"start\" x=\"438.5\" y=\"-230.8\" font-family=\"Helvetica,sans-Serif\" font-size=\"14.00\" fill=\"#000000\">squared_error = 73.352</text>\n<text text-anchor=\"start\" x=\"467\" y=\"-215.8\" font-family=\"Helvetica,sans-Serif\" font-size=\"14.00\" fill=\"#000000\">samples = 169</text>\n<text text-anchor=\"start\" x=\"466.5\" y=\"-200.8\" font-family=\"Helvetica,sans-Serif\" font-size=\"14.00\" fill=\"#000000\">value = 29.659</text>\n</g>\n<!-- 0&#45;&gt;1 -->\n<g id=\"edge1\" class=\"edge\">\n<title>0&#45;&gt;1</title>\n<path fill=\"none\" stroke=\"#000000\" d=\"M632.6985,-296.9465C616.2306,-287.1599 598.1362,-276.4066 581.1793,-266.3294\"/>\n<polygon fill=\"#000000\" stroke=\"#000000\" points=\"582.8149,-263.23 572.4303,-261.13 579.2387,-269.2476 582.8149,-263.23\"/>\n<text text-anchor=\"middle\" x=\"578.5958\" y=\"-281.6578\" font-family=\"Helvetica,sans-Serif\" font-size=\"14.00\" fill=\"#000000\">True</text>\n</g>\n<!-- 8 -->\n<g id=\"node9\" class=\"node\">\n<title>8</title>\n<path fill=\"#fcefe5\" stroke=\"#000000\" d=\"M947.5,-261C947.5,-261 802.5,-261 802.5,-261 796.5,-261 790.5,-255 790.5,-249 790.5,-249 790.5,-205 790.5,-205 790.5,-199 796.5,-193 802.5,-193 802.5,-193 947.5,-193 947.5,-193 953.5,-193 959.5,-199 959.5,-205 959.5,-205 959.5,-249 959.5,-249 959.5,-255 953.5,-261 947.5,-261\"/>\n<text text-anchor=\"start\" x=\"822.5\" y=\"-245.8\" font-family=\"Helvetica,sans-Serif\" font-size=\"14.00\" fill=\"#000000\">LSTAT ≤ 16.085</text>\n<text text-anchor=\"start\" x=\"798.5\" y=\"-230.8\" font-family=\"Helvetica,sans-Serif\" font-size=\"14.00\" fill=\"#000000\">squared_error = 23.162</text>\n<text text-anchor=\"start\" x=\"827\" y=\"-215.8\" font-family=\"Helvetica,sans-Serif\" font-size=\"14.00\" fill=\"#000000\">samples = 235</text>\n<text text-anchor=\"start\" x=\"831\" y=\"-200.8\" font-family=\"Helvetica,sans-Serif\" font-size=\"14.00\" fill=\"#000000\">value = 17.39</text>\n</g>\n<!-- 0&#45;&gt;8 -->\n<g id=\"edge8\" class=\"edge\">\n<title>0&#45;&gt;8</title>\n<path fill=\"none\" stroke=\"#000000\" d=\"M750.5759,-296.9465C768.1445,-287.0701 787.4643,-276.2093 805.5321,-266.0522\"/>\n<polygon fill=\"#000000\" stroke=\"#000000\" points=\"807.2861,-269.0814 814.288,-261.13 803.8558,-262.9795 807.2861,-269.0814\"/>\n<text text-anchor=\"middle\" x=\"807.5411\" y=\"-281.5024\" font-family=\"Helvetica,sans-Serif\" font-size=\"14.00\" fill=\"#000000\">False</text>\n</g>\n<!-- 2 -->\n<g id=\"node3\" class=\"node\">\n<title>2</title>\n<path fill=\"#f5cdb0\" stroke=\"#000000\" d=\"M319.5,-157C319.5,-157 174.5,-157 174.5,-157 168.5,-157 162.5,-151 162.5,-145 162.5,-145 162.5,-101 162.5,-101 162.5,-95 168.5,-89 174.5,-89 174.5,-89 319.5,-89 319.5,-89 325.5,-89 331.5,-95 331.5,-101 331.5,-101 331.5,-145 331.5,-145 331.5,-151 325.5,-157 319.5,-157\"/>\n<text text-anchor=\"start\" x=\"209\" y=\"-141.8\" font-family=\"Helvetica,sans-Serif\" font-size=\"14.00\" fill=\"#000000\">DIS ≤ 1.485</text>\n<text text-anchor=\"start\" x=\"170.5\" y=\"-126.8\" font-family=\"Helvetica,sans-Serif\" font-size=\"14.00\" fill=\"#000000\">squared_error = 40.799</text>\n<text text-anchor=\"start\" x=\"199\" y=\"-111.8\" font-family=\"Helvetica,sans-Serif\" font-size=\"14.00\" fill=\"#000000\">samples = 147</text>\n<text text-anchor=\"start\" x=\"198.5\" y=\"-96.8\" font-family=\"Helvetica,sans-Serif\" font-size=\"14.00\" fill=\"#000000\">value = 27.465</text>\n</g>\n<!-- 1&#45;&gt;2 -->\n<g id=\"edge2\" class=\"edge\">\n<title>1&#45;&gt;2</title>\n<path fill=\"none\" stroke=\"#000000\" d=\"M430.2031,-194.0938C401.959,-183.1333 370.3282,-170.8587 341.4021,-159.6337\"/>\n<polygon fill=\"#000000\" stroke=\"#000000\" points=\"342.2938,-156.2254 331.7049,-155.8705 339.7613,-162.7513 342.2938,-156.2254\"/>\n</g>\n<!-- 5 -->\n<g id=\"node6\" class=\"node\">\n<title>5</title>\n<path fill=\"#e99457\" stroke=\"#000000\" d=\"M587.5,-157C587.5,-157 442.5,-157 442.5,-157 436.5,-157 430.5,-151 430.5,-145 430.5,-145 430.5,-101 430.5,-101 430.5,-95 436.5,-89 442.5,-89 442.5,-89 587.5,-89 587.5,-89 593.5,-89 599.5,-95 599.5,-101 599.5,-101 599.5,-145 599.5,-145 599.5,-151 593.5,-157 587.5,-157\"/>\n<text text-anchor=\"start\" x=\"477.5\" y=\"-141.8\" font-family=\"Helvetica,sans-Serif\" font-size=\"14.00\" fill=\"#000000\">RM ≤ 8.589</text>\n<text text-anchor=\"start\" x=\"438.5\" y=\"-126.8\" font-family=\"Helvetica,sans-Serif\" font-size=\"14.00\" fill=\"#000000\">squared_error = 43.794</text>\n<text text-anchor=\"start\" x=\"471\" y=\"-111.8\" font-family=\"Helvetica,sans-Serif\" font-size=\"14.00\" fill=\"#000000\">samples = 22</text>\n<text text-anchor=\"start\" x=\"466.5\" y=\"-96.8\" font-family=\"Helvetica,sans-Serif\" font-size=\"14.00\" fill=\"#000000\">value = 44.318</text>\n</g>\n<!-- 1&#45;&gt;5 -->\n<g id=\"edge5\" class=\"edge\">\n<title>1&#45;&gt;5</title>\n<path fill=\"none\" stroke=\"#000000\" d=\"M515,-192.9465C515,-184.776 515,-175.9318 515,-167.3697\"/>\n<polygon fill=\"#000000\" stroke=\"#000000\" points=\"518.5001,-167.13 515,-157.13 511.5001,-167.13 518.5001,-167.13\"/>\n</g>\n<!-- 3 -->\n<g id=\"node4\" class=\"node\">\n<title>3</title>\n<path fill=\"#e58139\" stroke=\"#000000\" d=\"M132,-53C132,-53 12,-53 12,-53 6,-53 0,-47 0,-41 0,-41 0,-12 0,-12 0,-6 6,0 12,0 12,0 132,0 132,0 138,0 144,-6 144,-12 144,-12 144,-41 144,-41 144,-47 138,-53 132,-53\"/>\n<text text-anchor=\"start\" x=\"8\" y=\"-37.8\" font-family=\"Helvetica,sans-Serif\" font-size=\"14.00\" fill=\"#000000\">squared_error = 0.0</text>\n<text text-anchor=\"start\" x=\"32.5\" y=\"-22.8\" font-family=\"Helvetica,sans-Serif\" font-size=\"14.00\" fill=\"#000000\">samples = 4</text>\n<text text-anchor=\"start\" x=\"32\" y=\"-7.8\" font-family=\"Helvetica,sans-Serif\" font-size=\"14.00\" fill=\"#000000\">value = 50.0</text>\n</g>\n<!-- 2&#45;&gt;3 -->\n<g id=\"edge3\" class=\"edge\">\n<title>2&#45;&gt;3</title>\n<path fill=\"none\" stroke=\"#000000\" d=\"M185.3015,-88.9777C167.1173,-78.9504 147.3003,-68.0228 129.3979,-58.1508\"/>\n<polygon fill=\"#000000\" stroke=\"#000000\" points=\"130.6763,-54.859 120.2293,-53.095 127.2961,-60.9888 130.6763,-54.859\"/>\n</g>\n<!-- 4 -->\n<g id=\"node5\" class=\"node\">\n<title>4</title>\n<path fill=\"#f5cfb3\" stroke=\"#000000\" d=\"M319.5,-53C319.5,-53 174.5,-53 174.5,-53 168.5,-53 162.5,-47 162.5,-41 162.5,-41 162.5,-12 162.5,-12 162.5,-6 168.5,0 174.5,0 174.5,0 319.5,0 319.5,0 325.5,0 331.5,-6 331.5,-12 331.5,-12 331.5,-41 331.5,-41 331.5,-47 325.5,-53 319.5,-53\"/>\n<text text-anchor=\"start\" x=\"170.5\" y=\"-37.8\" font-family=\"Helvetica,sans-Serif\" font-size=\"14.00\" fill=\"#000000\">squared_error = 27.338</text>\n<text text-anchor=\"start\" x=\"199\" y=\"-22.8\" font-family=\"Helvetica,sans-Serif\" font-size=\"14.00\" fill=\"#000000\">samples = 143</text>\n<text text-anchor=\"start\" x=\"198.5\" y=\"-7.8\" font-family=\"Helvetica,sans-Serif\" font-size=\"14.00\" fill=\"#000000\">value = 26.834</text>\n</g>\n<!-- 2&#45;&gt;4 -->\n<g id=\"edge4\" class=\"edge\">\n<title>2&#45;&gt;4</title>\n<path fill=\"none\" stroke=\"#000000\" d=\"M247,-88.9777C247,-80.7364 247,-71.887 247,-63.5153\"/>\n<polygon fill=\"#000000\" stroke=\"#000000\" points=\"250.5001,-63.2484 247,-53.2485 243.5001,-63.2485 250.5001,-63.2484\"/>\n</g>\n<!-- 6 -->\n<g id=\"node7\" class=\"node\">\n<title>6</title>\n<path fill=\"#e89151\" stroke=\"#000000\" d=\"M506.5,-53C506.5,-53 361.5,-53 361.5,-53 355.5,-53 349.5,-47 349.5,-41 349.5,-41 349.5,-12 349.5,-12 349.5,-6 355.5,0 361.5,0 361.5,0 506.5,0 506.5,0 512.5,0 518.5,-6 518.5,-12 518.5,-12 518.5,-41 518.5,-41 518.5,-47 512.5,-53 506.5,-53\"/>\n<text text-anchor=\"start\" x=\"357.5\" y=\"-37.8\" font-family=\"Helvetica,sans-Serif\" font-size=\"14.00\" fill=\"#000000\">squared_error = 20.808</text>\n<text text-anchor=\"start\" x=\"390\" y=\"-22.8\" font-family=\"Helvetica,sans-Serif\" font-size=\"14.00\" fill=\"#000000\">samples = 21</text>\n<text text-anchor=\"start\" x=\"385.5\" y=\"-7.8\" font-family=\"Helvetica,sans-Serif\" font-size=\"14.00\" fill=\"#000000\">value = 45.386</text>\n</g>\n<!-- 5&#45;&gt;6 -->\n<g id=\"edge6\" class=\"edge\">\n<title>5&#45;&gt;6</title>\n<path fill=\"none\" stroke=\"#000000\" d=\"M486.4424,-88.9777C478.8331,-79.9123 470.6061,-70.111 462.9747,-61.0192\"/>\n<polygon fill=\"#000000\" stroke=\"#000000\" points=\"465.562,-58.6577 456.4521,-53.2485 460.2005,-63.1581 465.562,-58.6577\"/>\n</g>\n<!-- 7 -->\n<g id=\"node8\" class=\"node\">\n<title>7</title>\n<path fill=\"#f8dfcd\" stroke=\"#000000\" d=\"M669,-53C669,-53 549,-53 549,-53 543,-53 537,-47 537,-41 537,-41 537,-12 537,-12 537,-6 543,0 549,0 549,0 669,0 669,0 675,0 681,-6 681,-12 681,-12 681,-41 681,-41 681,-47 675,-53 669,-53\"/>\n<text text-anchor=\"start\" x=\"545\" y=\"-37.8\" font-family=\"Helvetica,sans-Serif\" font-size=\"14.00\" fill=\"#000000\">squared_error = 0.0</text>\n<text text-anchor=\"start\" x=\"569.5\" y=\"-22.8\" font-family=\"Helvetica,sans-Serif\" font-size=\"14.00\" fill=\"#000000\">samples = 1</text>\n<text text-anchor=\"start\" x=\"569\" y=\"-7.8\" font-family=\"Helvetica,sans-Serif\" font-size=\"14.00\" fill=\"#000000\">value = 21.9</text>\n</g>\n<!-- 5&#45;&gt;7 -->\n<g id=\"edge7\" class=\"edge\">\n<title>5&#45;&gt;7</title>\n<path fill=\"none\" stroke=\"#000000\" d=\"M548.1409,-88.9777C557.1498,-79.7292 566.9048,-69.7147 575.9109,-60.4691\"/>\n<polygon fill=\"#000000\" stroke=\"#000000\" points=\"578.4739,-62.8539 582.9445,-53.2485 573.4596,-57.9696 578.4739,-62.8539\"/>\n</g>\n<!-- 9 -->\n<g id=\"node10\" class=\"node\">\n<title>9</title>\n<path fill=\"#fae5d6\" stroke=\"#000000\" d=\"M943.5,-157C943.5,-157 806.5,-157 806.5,-157 800.5,-157 794.5,-151 794.5,-145 794.5,-145 794.5,-101 794.5,-101 794.5,-95 800.5,-89 806.5,-89 806.5,-89 943.5,-89 943.5,-89 949.5,-89 955.5,-95 955.5,-101 955.5,-101 955.5,-145 955.5,-145 955.5,-151 949.5,-157 943.5,-157\"/>\n<text text-anchor=\"start\" x=\"826.5\" y=\"-141.8\" font-family=\"Helvetica,sans-Serif\" font-size=\"14.00\" fill=\"#000000\">INDUS ≤ 3.985</text>\n<text text-anchor=\"start\" x=\"802.5\" y=\"-126.8\" font-family=\"Helvetica,sans-Serif\" font-size=\"14.00\" fill=\"#000000\">squared_error = 9.361</text>\n<text text-anchor=\"start\" x=\"827\" y=\"-111.8\" font-family=\"Helvetica,sans-Serif\" font-size=\"14.00\" fill=\"#000000\">samples = 118</text>\n<text text-anchor=\"start\" x=\"826.5\" y=\"-96.8\" font-family=\"Helvetica,sans-Serif\" font-size=\"14.00\" fill=\"#000000\">value = 20.343</text>\n</g>\n<!-- 8&#45;&gt;9 -->\n<g id=\"edge9\" class=\"edge\">\n<title>8&#45;&gt;9</title>\n<path fill=\"none\" stroke=\"#000000\" d=\"M875,-192.9465C875,-184.776 875,-175.9318 875,-167.3697\"/>\n<polygon fill=\"#000000\" stroke=\"#000000\" points=\"878.5001,-167.13 875,-157.13 871.5001,-167.13 878.5001,-167.13\"/>\n</g>\n<!-- 12 -->\n<g id=\"node13\" class=\"node\">\n<title>12</title>\n<path fill=\"#fef9f5\" stroke=\"#000000\" d=\"M1222.5,-157C1222.5,-157 1077.5,-157 1077.5,-157 1071.5,-157 1065.5,-151 1065.5,-145 1065.5,-145 1065.5,-101 1065.5,-101 1065.5,-95 1071.5,-89 1077.5,-89 1077.5,-89 1222.5,-89 1222.5,-89 1228.5,-89 1234.5,-95 1234.5,-101 1234.5,-101 1234.5,-145 1234.5,-145 1234.5,-151 1228.5,-157 1222.5,-157\"/>\n<text text-anchor=\"start\" x=\"1108\" y=\"-141.8\" font-family=\"Helvetica,sans-Serif\" font-size=\"14.00\" fill=\"#000000\">NOX ≤ 0.603</text>\n<text text-anchor=\"start\" x=\"1073.5\" y=\"-126.8\" font-family=\"Helvetica,sans-Serif\" font-size=\"14.00\" fill=\"#000000\">squared_error = 19.417</text>\n<text text-anchor=\"start\" x=\"1102\" y=\"-111.8\" font-family=\"Helvetica,sans-Serif\" font-size=\"14.00\" fill=\"#000000\">samples = 117</text>\n<text text-anchor=\"start\" x=\"1101.5\" y=\"-96.8\" font-family=\"Helvetica,sans-Serif\" font-size=\"14.00\" fill=\"#000000\">value = 14.412</text>\n</g>\n<!-- 8&#45;&gt;12 -->\n<g id=\"edge12\" class=\"edge\">\n<title>8&#45;&gt;12</title>\n<path fill=\"none\" stroke=\"#000000\" d=\"M959.753,-194.948C990.0733,-183.4814 1024.4269,-170.4895 1055.5175,-158.7316\"/>\n<polygon fill=\"#000000\" stroke=\"#000000\" points=\"1056.9381,-161.9363 1065.0535,-155.1252 1054.4619,-155.3889 1056.9381,-161.9363\"/>\n</g>\n<!-- 10 -->\n<g id=\"node11\" class=\"node\">\n<title>10</title>\n<path fill=\"#f6d5bc\" stroke=\"#000000\" d=\"M856.5,-53C856.5,-53 711.5,-53 711.5,-53 705.5,-53 699.5,-47 699.5,-41 699.5,-41 699.5,-12 699.5,-12 699.5,-6 705.5,0 711.5,0 711.5,0 856.5,0 856.5,0 862.5,0 868.5,-6 868.5,-12 868.5,-12 868.5,-41 868.5,-41 868.5,-47 862.5,-53 856.5,-53\"/>\n<text text-anchor=\"start\" x=\"707.5\" y=\"-37.8\" font-family=\"Helvetica,sans-Serif\" font-size=\"14.00\" fill=\"#000000\">squared_error = 20.712</text>\n<text text-anchor=\"start\" x=\"744.5\" y=\"-22.8\" font-family=\"Helvetica,sans-Serif\" font-size=\"14.00\" fill=\"#000000\">samples = 8</text>\n<text text-anchor=\"start\" x=\"735.5\" y=\"-7.8\" font-family=\"Helvetica,sans-Serif\" font-size=\"14.00\" fill=\"#000000\">value = 25.162</text>\n</g>\n<!-- 9&#45;&gt;10 -->\n<g id=\"edge10\" class=\"edge\">\n<title>9&#45;&gt;10</title>\n<path fill=\"none\" stroke=\"#000000\" d=\"M842.9168,-88.9777C834.2817,-79.8207 824.9386,-69.9129 816.2922,-60.744\"/>\n<polygon fill=\"#000000\" stroke=\"#000000\" points=\"818.6311,-58.1226 809.224,-53.2485 813.5383,-62.9251 818.6311,-58.1226\"/>\n</g>\n<!-- 11 -->\n<g id=\"node12\" class=\"node\">\n<title>11</title>\n<path fill=\"#fae6d8\" stroke=\"#000000\" d=\"M1035.5,-53C1035.5,-53 898.5,-53 898.5,-53 892.5,-53 886.5,-47 886.5,-41 886.5,-41 886.5,-12 886.5,-12 886.5,-6 892.5,0 898.5,0 898.5,0 1035.5,0 1035.5,0 1041.5,0 1047.5,-6 1047.5,-12 1047.5,-12 1047.5,-41 1047.5,-41 1047.5,-47 1041.5,-53 1035.5,-53\"/>\n<text text-anchor=\"start\" x=\"894.5\" y=\"-37.8\" font-family=\"Helvetica,sans-Serif\" font-size=\"14.00\" fill=\"#000000\">squared_error = 6.724</text>\n<text text-anchor=\"start\" x=\"919\" y=\"-22.8\" font-family=\"Helvetica,sans-Serif\" font-size=\"14.00\" fill=\"#000000\">samples = 110</text>\n<text text-anchor=\"start\" x=\"918.5\" y=\"-7.8\" font-family=\"Helvetica,sans-Serif\" font-size=\"14.00\" fill=\"#000000\">value = 19.993</text>\n</g>\n<!-- 9&#45;&gt;11 -->\n<g id=\"edge11\" class=\"edge\">\n<title>9&#45;&gt;11</title>\n<path fill=\"none\" stroke=\"#000000\" d=\"M907.4358,-88.9777C916.1657,-79.8207 925.6115,-69.9129 934.3529,-60.744\"/>\n<polygon fill=\"#000000\" stroke=\"#000000\" points=\"937.1318,-62.9014 941.4989,-53.2485 932.0653,-58.0712 937.1318,-62.9014\"/>\n</g>\n<!-- 13 -->\n<g id=\"node14\" class=\"node\">\n<title>13</title>\n<path fill=\"#fbede3\" stroke=\"#000000\" d=\"M1222.5,-53C1222.5,-53 1077.5,-53 1077.5,-53 1071.5,-53 1065.5,-47 1065.5,-41 1065.5,-41 1065.5,-12 1065.5,-12 1065.5,-6 1071.5,0 1077.5,0 1077.5,0 1222.5,0 1222.5,0 1228.5,0 1234.5,-6 1234.5,-12 1234.5,-12 1234.5,-41 1234.5,-41 1234.5,-47 1228.5,-53 1222.5,-53\"/>\n<text text-anchor=\"start\" x=\"1073.5\" y=\"-37.8\" font-family=\"Helvetica,sans-Serif\" font-size=\"14.00\" fill=\"#000000\">squared_error = 12.584</text>\n<text text-anchor=\"start\" x=\"1106\" y=\"-22.8\" font-family=\"Helvetica,sans-Serif\" font-size=\"14.00\" fill=\"#000000\">samples = 42</text>\n<text text-anchor=\"start\" x=\"1101.5\" y=\"-7.8\" font-family=\"Helvetica,sans-Serif\" font-size=\"14.00\" fill=\"#000000\">value = 17.769</text>\n</g>\n<!-- 12&#45;&gt;13 -->\n<g id=\"edge13\" class=\"edge\">\n<title>12&#45;&gt;13</title>\n<path fill=\"none\" stroke=\"#000000\" d=\"M1150,-88.9777C1150,-80.7364 1150,-71.887 1150,-63.5153\"/>\n<polygon fill=\"#000000\" stroke=\"#000000\" points=\"1153.5001,-63.2484 1150,-53.2485 1146.5001,-63.2485 1153.5001,-63.2484\"/>\n</g>\n<!-- 14 -->\n<g id=\"node15\" class=\"node\">\n<title>14</title>\n<path fill=\"#ffffff\" stroke=\"#000000\" d=\"M1409.5,-53C1409.5,-53 1264.5,-53 1264.5,-53 1258.5,-53 1252.5,-47 1252.5,-41 1252.5,-41 1252.5,-12 1252.5,-12 1252.5,-6 1258.5,0 1264.5,0 1264.5,0 1409.5,0 1409.5,0 1415.5,0 1421.5,-6 1421.5,-12 1421.5,-12 1421.5,-41 1421.5,-41 1421.5,-47 1415.5,-53 1409.5,-53\"/>\n<text text-anchor=\"start\" x=\"1260.5\" y=\"-37.8\" font-family=\"Helvetica,sans-Serif\" font-size=\"14.00\" fill=\"#000000\">squared_error = 13.398</text>\n<text text-anchor=\"start\" x=\"1293\" y=\"-22.8\" font-family=\"Helvetica,sans-Serif\" font-size=\"14.00\" fill=\"#000000\">samples = 75</text>\n<text text-anchor=\"start\" x=\"1288.5\" y=\"-7.8\" font-family=\"Helvetica,sans-Serif\" font-size=\"14.00\" fill=\"#000000\">value = 12.532</text>\n</g>\n<!-- 12&#45;&gt;14 -->\n<g id=\"edge14\" class=\"edge\">\n<title>12&#45;&gt;14</title>\n<path fill=\"none\" stroke=\"#000000\" d=\"M1215.9292,-88.9777C1235.6278,-78.8124 1257.1194,-67.7218 1276.4549,-57.7439\"/>\n<polygon fill=\"#000000\" stroke=\"#000000\" points=\"1278.182,-60.7912 1285.4635,-53.095 1274.9719,-54.5706 1278.182,-60.7912\"/>\n</g>\n</g>\n</svg>\n"
          },
          "metadata": {},
          "execution_count": 22
        }
      ]
    },
    {
      "cell_type": "markdown",
      "source": [
        "# Extra Readings:\n",
        "1. https://towardsdatascience.com/machine-learning-basics-decision-tree-regression-1d73ea003fda\n",
        "\n"
      ],
      "metadata": {
        "id": "Sebzs_uqzUjT"
      }
    },
    {
      "cell_type": "code",
      "source": [],
      "metadata": {
        "id": "luedy8bCx1DY"
      },
      "execution_count": null,
      "outputs": []
    }
  ]
}